{
 "cells": [
  {
   "cell_type": "code",
   "execution_count": null,
   "id": "87f2123b",
   "metadata": {
    "tags": [
     "snakemake-job-properties"
    ]
   },
   "outputs": [],
   "source": [
    "\n",
    "######## snakemake preamble start (automatically inserted, do not edit) ########\n",
    "#import sys; sys.path.extend(['/home/jeffjar/mambaforge/envs/omicron/lib/python3.8/site-packages', '/mnt/c/Users/jeffj/Documents/lab/desai-lab/project-omicron/omicron/Titeseq/notebooks']); import pickle; snakemake = pickle.loads(b\"\\x80\\x04\\x95\\x98\\r\\x00\\x00\\x00\\x00\\x00\\x00\\x8c\\x10snakemake.script\\x94\\x8c\\tSnakemake\\x94\\x93\\x94)\\x81\\x94}\\x94(\\x8c\\x05input\\x94\\x8c\\x0csnakemake.io\\x94\\x8c\\nInputFiles\\x94\\x93\\x94)\\x81\\x94\\x8c\\x19results/mutation_list.tsv\\x94a}\\x94(\\x8c\\x06_names\\x94}\\x94\\x8c\\rmutation_list\\x94K\\x00N\\x86\\x94s\\x8c\\x12_allowed_overrides\\x94]\\x94(\\x8c\\x05index\\x94\\x8c\\x04sort\\x94eh\\x12\\x8c\\tfunctools\\x94\\x8c\\x07partial\\x94\\x93\\x94h\\x06\\x8c\\x19Namedlist._used_attribute\\x94\\x93\\x94\\x85\\x94R\\x94(h\\x18)}\\x94\\x8c\\x05_name\\x94h\\x12sNt\\x94bh\\x13h\\x16h\\x18\\x85\\x94R\\x94(h\\x18)}\\x94h\\x1ch\\x13sNt\\x94bh\\x0eh\\nub\\x8c\\x06output\\x94h\\x06\\x8c\\x0bOutputFiles\\x94\\x93\\x94)\\x81\\x94(\\x8c results/regexes/read_1_regex.txt\\x94\\x8c results/regexes/read_2_regex.txt\\x94e}\\x94(h\\x0c}\\x94(\\x8c\\x0cread_1_regex\\x94K\\x00N\\x86\\x94\\x8c\\x0cread_2_regex\\x94K\\x01N\\x86\\x94uh\\x10]\\x94(h\\x12h\\x13eh\\x12h\\x16h\\x18\\x85\\x94R\\x94(h\\x18)}\\x94h\\x1ch\\x12sNt\\x94bh\\x13h\\x16h\\x18\\x85\\x94R\\x94(h\\x18)}\\x94h\\x1ch\\x13sNt\\x94bh*h&h,h'ub\\x8c\\x06params\\x94h\\x06\\x8c\\x06Params\\x94\\x93\\x94)\\x81\\x94}\\x94(h\\x0c}\\x94h\\x10]\\x94(h\\x12h\\x13eh\\x12h\\x16h\\x18\\x85\\x94R\\x94(h\\x18)}\\x94h\\x1ch\\x12sNt\\x94bh\\x13h\\x16h\\x18\\x85\\x94R\\x94(h\\x18)}\\x94h\\x1ch\\x13sNt\\x94bub\\x8c\\twildcards\\x94h\\x06\\x8c\\tWildcards\\x94\\x93\\x94)\\x81\\x94}\\x94(h\\x0c}\\x94h\\x10]\\x94(h\\x12h\\x13eh\\x12h\\x16h\\x18\\x85\\x94R\\x94(h\\x18)}\\x94h\\x1ch\\x12sNt\\x94bh\\x13h\\x16h\\x18\\x85\\x94R\\x94(h\\x18)}\\x94h\\x1ch\\x13sNt\\x94bub\\x8c\\x07threads\\x94K\\x01\\x8c\\tresources\\x94h\\x06\\x8c\\tResources\\x94\\x93\\x94)\\x81\\x94(K\\x01K\\x01\\x8c\\x04/tmp\\x94e}\\x94(h\\x0c}\\x94(\\x8c\\x06_cores\\x94K\\x00N\\x86\\x94\\x8c\\x06_nodes\\x94K\\x01N\\x86\\x94\\x8c\\x06tmpdir\\x94K\\x02N\\x86\\x94uh\\x10]\\x94(h\\x12h\\x13eh\\x12h\\x16h\\x18\\x85\\x94R\\x94(h\\x18)}\\x94h\\x1ch\\x12sNt\\x94bh\\x13h\\x16h\\x18\\x85\\x94R\\x94(h\\x18)}\\x94h\\x1ch\\x13sNt\\x94bh]K\\x01h_K\\x01hahZub\\x8c\\x03log\\x94h\\x06\\x8c\\x03Log\\x94\\x93\\x94)\\x81\\x94}\\x94(h\\x0c}\\x94h\\x10]\\x94(h\\x12h\\x13eh\\x12h\\x16h\\x18\\x85\\x94R\\x94(h\\x18)}\\x94h\\x1ch\\x12sNt\\x94bh\\x13h\\x16h\\x18\\x85\\x94R\\x94(h\\x18)}\\x94h\\x1ch\\x13sNt\\x94bub\\x8c\\x06config\\x94}\\x94(\\x8c\\x1csequence_begins_with_residue\\x94MK\\x01\\x8c\\rancestral_seq\\x94X\\\\\\x02\\x00\\x00AACATAACAAACTTATGCCCCTTTggaGAAGTATTTAATGCTACTAGATTCGCATCGGTTTATGCCTGGAATAGAAAGAGGATCAGTAACTGCGTTGCTGATTATTCTGTTTTGTATAACtcgGCCtcgTTCtcgACATTTAAGTGCTACGGGGTCTCGCCTACCAAATTAAACGATTTATGCTTCACCAATGTGTACGCCGATTCTTTTGTGATCAGGGGTGACGAAGTTAGACAGATCGCTCCAGGGCAAACTGGTaagATTGCCGATTACAACTACAAGCTTCCAGACGACTTCACTGGTTGCGTAATAGCATGGAACTCAAACaacTTAGACTCAAAGGTCggaGGAAATTATAACTACCTGTACCGTCTTTTCAGGAAATCAAATTTGAAGCCGTTCGAAAGGGACATCTCCACGGAGATATATCAGGCCGGTtcaacaCCCTGCAATGGCGTCgagGGCTTCAACTGTTACTTCCCCCTAcagTCATACggtTTCcagCCTACAaacGGAGTTGGCtacCAGCCATACAGAGTTGTGGTTTTATCTTTCGAGTTGTTGCACGCCCCTGCTACGGTTTGTGGTCCTAAGAAGTCCACT\\n\\x94\\x8c\\x0edescendant_seq\\x94X\\\\\\x02\\x00\\x00AACATAACAAACTTATGCCCCTTTGACGAAGTATTTAATGCTACTAGATTCGCATCGGTTTATGCCTGGAATAGAAAGAGGATCAGTAACTGCGTTGCTGATTATTCTGTTTTGTATAACCTGGCCCCTTTCTTCACATTTAAGTGCTACGGGGTCTCGCCTACCAAATTAAACGATTTATGCTTCACCAATGTGTACGCCGATTCTTTTGTGATCAGGGGTGACGAAGTTAGACAGATCGCTCCAGGGCAAACTGGTAATATTGCCGATTACAACTACAAGCTTCCAGACGACTTCACTGGTTGCGTAATAGCATGGAACTCAAACAAGTTAGACTCAAAGGTCTCAGGAAATTATAACTACCTGTACCGTCTTTTCAGGAAATCAAATTTGAAGCCGTTCGAAAGGGACATCTCCACGGAGATATATCAGGCCGGTAACAAGCCCTGCAATGGCGTCGCCGGCTTCAACTGTTACTTCCCCCTAAGGTCATACTCTTTCAGGCCTACATACGGAGTTGGCCATCAGCCATACAGAGTTGTGGTTTTATCTTTCGAGTTGTTGCACGCCCCTGCTACGGTTTGTGGTCCTAAGAAGTCCACT\\n\\x94\\x8c\\x0emutation_names\\x94]\\x94(\\x8c\\x05G339D\\x94\\x8c\\x05S371L\\x94\\x8c\\x05S373P\\x94\\x8c\\x05S375F\\x94\\x8c\\x05K417N\\x94\\x8c\\x05N440K\\x94\\x8c\\x05G446S\\x94\\x8c\\x05S477N\\x94\\x8c\\x05T478K\\x94\\x8c\\x05E484A\\x94\\x8c\\x05Q493R\\x94\\x8c\\x05G496S\\x94\\x8c\\x05Q498R\\x94\\x8c\\x05N501Y\\x94\\x8c\\x05Y505H\\x94e\\x8c\\rnum_mutations\\x94K\\x0f\\x8c\\x1csynonymously_coded_mutations\\x94]\\x94\\x8c\\x0bcollections\\x94\\x8c\\x0bOrderedDict\\x94\\x93\\x94)R\\x94(\\x8c\\rmutation_name\\x94\\x8c\\x05K417N\\x94\\x8c\\x13synonomous_position\\x94Mz\\x01\\x8c\\x07codon_0\\x94\\x8c\\x03AAG\\x94\\x8c\\x07codon_1\\x94\\x8c\\x03AAA\\x94ua\\x8c\\x1dnum_mutations_on_forward_read\\x94K\\x05\\x8c\\x19foward_read_annealing_seq\\x94\\x8c\\x14GGTCGGCTAGCCATATGAAC\\x94\\x8c\\x1cforward_read_starting_offset\\x94J\\xef\\xff\\xff\\xff\\x8c\\x1dnum_mutations_on_reverse_read\\x94K\\n\\x8c\\x1areverse_read_annealing_seq\\x94\\x8c\\x18GATAAAACCACAACTCTGTATGGC\\x94\\x8c\\x1creverse_read_starting_offset\\x94K4\\x8c\\numi_length\\x94K\\x08\\x8c\\x12row_inline_indices\\x94]\\x94(\\x8c\\x07TACCTGA\\x94\\x8c\\x08AGAACCAT\\x94\\x8c\\tACCGTTGAC\\x94\\x8c\\nGCAAGCTGTT\\x94\\x8c\\x0bTCGGTGGTACG\\x94\\x8c\\x0cGTTCAACCGATT\\x94\\x8c\\x07CGTACAA\\x94\\x8c\\x08GAGATCAC\\x94e\\x8c\\x12col_inline_indices\\x94]\\x94(\\x8c\\x07TTGATCG\\x94\\x8c\\nCATTCTCGAG\\x94\\x8c\\x0bCCTTAGTACTA\\x94\\x8c\\x0cAGTGGAATACCT\\x94\\x8c\\x07GGTATCA\\x94\\x8c\\x08GATGTCCT\\x94\\x8c\\tCTCATCCAG\\x94\\x8c\\nGACGGAACTC\\x94\\x8c\\x0bATCGCAGGCAT\\x94\\x8c\\x0cTCACGACTAGTA\\x94e\\x8c\\x08data_dir\\x94\\x8c\\x0edata/simulated\\x94\\x8c\\ndebug_mode\\x94\\x88\\x8c\\x1fmax_reads_per_file_if_debugging\\x94K2\\x8c)num_substitutions_tolerated_in_inline_idx\\x94K\\x02\\x8c&num_substitutions_tolerated_per_ten_bp\\x94G?\\xd3333333\\x8c\\x1fare_indels_tolerated_in_primers\\x94\\x88u\\x8c\\x04rule\\x94\\x8c\\x10generate_regexes\\x94\\x8c\\x0fbench_iteration\\x94N\\x8c\\tscriptdir\\x94\\x8cT/mnt/c/Users/jeffj/Documents/lab/desai-lab/project-omicron/omicron/Titeseq/notebooks\\x94ub.\"); from snakemake.logging import logger; logger.printshellcmds = False; import os; os.chdir(r'/mnt/c/Users/jeffj/Documents/lab/desai-lab/project-omicron/omicron/Titeseq');\n",
    "######## snakemake preamble end #########\n"
   ]
  },
  {
   "cell_type": "code",
   "execution_count": null,
   "id": "89342b91-67f7-4155-b715-d1f3644f73d7",
   "metadata": {},
   "outputs": [],
   "source": [
    "from Bio.Seq import Seq\n",
    "import pandas as pd\n",
    "import regex\n",
    "import numpy as np\n",
    "\n",
    "def rc(x):\n",
    "    return str(Seq(x).reverse_complement())\n",
    "\n",
    "def translate(x):\n",
    "    return str(Seq(x).translate())"
   ]
  },
  {
   "cell_type": "markdown",
   "id": "0a41a39c-032e-4e47-bd0c-953dff7a3415",
   "metadata": {},
   "source": [
    "Read from snakemake"
   ]
  },
  {
   "cell_type": "code",
   "execution_count": null,
   "id": "1cac0a35-d809-47ab-aad6-8880ce396af8",
   "metadata": {},
   "outputs": [],
   "source": [
    "seq_0 = snakemake.config['ancestral_seq'].strip().upper()\n",
    "seq_1 = snakemake.config['descendant_seq'].strip().upper()\n",
    "starting_resnum = snakemake.config['sequence_begins_with_residue']\n",
    "num_mutations = snakemake.config['num_mutations']\n",
    "\n",
    "num_mutations_on_forward_read = snakemake.config['num_mutations_on_forward_read']\n",
    "num_mutations_on_reverse_read = snakemake.config['num_mutations_on_reverse_read']\n",
    "for_primer = snakemake.config['foward_read_annealing_seq']\n",
    "rev_primer = snakemake.config['reverse_read_annealing_seq']\n",
    "forward_read_starting_offset = snakemake.config['forward_read_starting_offset']\n",
    "reverse_read_starting_offset = snakemake.config['reverse_read_starting_offset']\n",
    "\n",
    "UMI_length = snakemake.config['umi_length']\n",
    "col_inline_idx = snakemake.config['col_inline_indices']\n",
    "row_inline_idx = snakemake.config['row_inline_indices']\n",
    "\n",
    "num_idx_subs = snakemake.config['num_substitutions_tolerated_in_inline_idx']\n",
    "num_substitutions_tolerated_per_ten_bp = snakemake.config['num_substitutions_tolerated_per_ten_bp']\n",
    "are_indels_tolerated_in_primers = snakemake.config['are_indels_tolerated_in_primers']\n",
    "\n",
    "mutations_df = pd.read_table(snakemake.input.mutation_list, index_col=[0])"
   ]
  },
  {
   "cell_type": "markdown",
   "id": "9e6859a6-87e2-40f1-8686-52cc37b3cbe0",
   "metadata": {},
   "source": [
    "# Generate the regex for parsing fastqs\n",
    "\n",
    "The sequencer has done the demultiplexing and removed the i5/i7 indices; now we want to separate into the fields\n",
    "\n",
    "`UMI -- inline index -- read`\n",
    "\n",
    "and later on we will actually turn the read into genotype"
   ]
  },
  {
   "cell_type": "code",
   "execution_count": null,
   "id": "4a337db8-84db-4c85-9298-119c66ad9550",
   "metadata": {},
   "outputs": [],
   "source": [
    "def make_or_regex(seqs, name, dist=0):\n",
    "    '''Returns a regex string that is an OR of all the seqs in seqs.\n",
    "    The capture is given a name `name`.\n",
    "    Substitutions only are accepted within edit distance `dist`.\n",
    "    '''\n",
    "    ret = f\"(?P<{name}>{'|'.join(seqs)})\"\n",
    "    if dist != 0:\n",
    "        ret += '{s<=%d}' % dist\n",
    "    return ret\n",
    "\n",
    "UMI_regex = \"(?P<UMI>[ACGT]{%d})\" % UMI_length\n",
    "\n",
    "cols_regex = make_or_regex(col_inline_idx, name='index', dist=num_idx_subs)\n",
    "rows_regex = make_or_regex(row_inline_idx, name='index', dist=num_idx_subs)\n",
    "\n",
    "read_seq_regex = \"(?P<read_seq>[ACGTN]+)\"\n",
    "\n",
    "read_1_regex = UMI_regex + cols_regex + read_seq_regex\n",
    "read_2_regex = UMI_regex + rows_regex + read_seq_regex"
   ]
  },
  {
   "cell_type": "code",
   "execution_count": null,
   "id": "5f88a26a-e954-466e-85c3-dc58ff5c9148",
   "metadata": {},
   "outputs": [],
   "source": [
    "print(read_1_regex)\n",
    "print(read_2_regex)"
   ]
  },
  {
   "cell_type": "code",
   "execution_count": null,
   "id": "9544376f-2be9-4ab6-b4ed-98b283d0fcbe",
   "metadata": {},
   "outputs": [],
   "source": [
    "with open(snakemake.output.read_1_regex, 'w') as f:\n",
    "    f.write(read_1_regex)\n",
    "\n",
    "with open(snakemake.output.read_2_regex, 'w') as f:\n",
    "    f.write(read_2_regex)"
   ]
  },
  {
   "cell_type": "markdown",
   "id": "dc1f7ecd-8768-4936-bcfd-d6867ce35ded",
   "metadata": {},
   "source": [
    "# Generate regex for parsing genotype\n",
    "\n",
    "## Make the full amplicon sequence\n",
    "\n",
    "check that the provided for / reverse primers match onto the sequences at the indicated offsets"
   ]
  },
  {
   "cell_type": "code",
   "execution_count": null,
   "id": "c1d0fbe0-bb62-43b5-b459-80aae6735258",
   "metadata": {},
   "outputs": [],
   "source": [
    "# we will trim or elongate the `amplicon` string to match what is amplified based on the for/rev primers and their provided offsets\n",
    "amplicon = seq_0\n",
    "\n",
    "if forward_read_starting_offset < 0:\n",
    "    # amplicon begins before the provided gene sequence; we should extend the amplicon to the left\n",
    "    # aaaaaa\n",
    "    #     gggggggggg\n",
    "    anneal_len = len(for_primer) - np.abs(forward_read_starting_offset)\n",
    "    assert anneal_len > 0, \"Forward primer is too short to anneal with gene sequence at provided offset\"\n",
    "    assert for_primer[-anneal_len:] == seq_0[:anneal_len], \"Forward primer does not anneal provided gene sequence at provided offset\"\n",
    "    \n",
    "    amplicon = for_primer[:-anneal_len] + amplicon\n",
    "else:\n",
    "    # amplicon begins somewhere in the provided gene sequence (I haven't tested this code)\n",
    "    # we should trim amplicon from the left\n",
    "    anneal_range = slice(forward_read_starting_offset, forward_read_starting_offset + len(for_primer))\n",
    "    assert seq_0[anneal_range] == for_primer, \"Forward primer does not anneal provided gene sequence at provided offset\"\n",
    "    \n",
    "    amplicon = amplicon[forward_read_starting_offset:]\n",
    "    \n",
    "    \n",
    "if reverse_read_starting_offset < 0:\n",
    "    # amplicon ends after the provided gene sequence; we should extend the amplicon to the right\n",
    "    # gggggggggg\n",
    "    #        aaaaa\n",
    "    \n",
    "    # The omicron project doesn't do this, so I haven't implemented it\n",
    "    raise NotImplemented\n",
    "else:\n",
    "    # amplicon ends somewhere in the provided gene sequence; we should trim from the right\n",
    "    anneal_range = slice(-reverse_read_starting_offset - len(rev_primer), -reverse_read_starting_offset)\n",
    "    assert seq_0[anneal_range] == rc(rev_primer), \"Reverse primer does not anneal provided gene sequence at provided offset, reverse primer: \" + snakemake.config['reverse_read_annealing_seq'] + \", reverse primer (rc): \" + rc(rev_primer) + \", gene sequence: \" + seq_0[anneal_range]  \n",
    "    \n",
    "    amplicon = amplicon[:-reverse_read_starting_offset]\n",
    "    \n",
    "amplicon"
   ]
  },
  {
   "cell_type": "markdown",
   "id": "310ebb7b-04c2-48a3-a84d-84739d1b4e26",
   "metadata": {},
   "source": [
    "## Split amplicon into constant and var regions\n",
    "\n",
    "Break up the amplicon constant regions separated by mutations, based on the `nt_pos` (nucleotide position) field in the mutations table"
   ]
  },
  {
   "cell_type": "code",
   "execution_count": null,
   "id": "6a184153-6413-4947-bbb3-cedd4f5e1d31",
   "metadata": {},
   "outputs": [],
   "source": [
    "mut_pos_in_amplicon = mutations_df['nt_pos'] - forward_read_starting_offset\n",
    "mut_pos_in_amplicon"
   ]
  },
  {
   "cell_type": "code",
   "execution_count": null,
   "id": "c30dbc49-bb8f-4c87-9b1f-f234ba49e327",
   "metadata": {},
   "outputs": [],
   "source": [
    "constant_regions = []\n",
    "\n",
    "for i in range(num_mutations + 1):\n",
    "    if i == 0:\n",
    "        start = 0\n",
    "    else:\n",
    "        start = mut_pos_in_amplicon[i - 1] + 3\n",
    "        \n",
    "    if i == num_mutations:\n",
    "        end = len(amplicon)\n",
    "    else:\n",
    "        end = mut_pos_in_amplicon[i]\n",
    "    \n",
    "    c = amplicon[start:end]\n",
    "    print(c)\n",
    "    constant_regions.append(c)"
   ]
  },
  {
   "cell_type": "code",
   "execution_count": null,
   "id": "e03b4262-f58a-4863-8c45-b411fab0a36f",
   "metadata": {
    "tags": []
   },
   "outputs": [],
   "source": [
    "constant_regions_rc = list(map(rc, reversed(constant_regions)))"
   ]
  },
  {
   "cell_type": "code",
   "execution_count": null,
   "id": "5b9ebd2b-714c-426a-be77-ede2b133b829",
   "metadata": {},
   "outputs": [],
   "source": [
    "for_read_constant_regions = constant_regions[:num_mutations_on_forward_read]\n",
    "rev_read_constant_regions = constant_regions_rc[:num_mutations_on_reverse_read]\n",
    "\n",
    "assert num_mutations_on_forward_read + num_mutations_on_reverse_read == num_mutations\n",
    "\n",
    "print(for_read_constant_regions)\n",
    "print(rev_read_constant_regions)"
   ]
  },
  {
   "cell_type": "markdown",
   "id": "2f63ed03-c520-44ef-9912-9f91982c5243",
   "metadata": {},
   "source": [
    "## Helper code for fuzzy regex"
   ]
  },
  {
   "cell_type": "code",
   "execution_count": null,
   "id": "ec8e3f7b-41d7-4a58-911a-e57778f4853b",
   "metadata": {},
   "outputs": [],
   "source": [
    "def make_fuzzy_regex(search, num_err, name='', bestmatch=True, allow_indels=False):\n",
    "    if search == '':\n",
    "        return ''\n",
    "    r = ''\n",
    "    if bestmatch and num_err != 0:\n",
    "        r += '(?e)'\n",
    "    r += '('\n",
    "    if name != '':\n",
    "        r += f'?P<{name}>'\n",
    "    r += search\n",
    "    r += ')'\n",
    "    if num_err != 0:\n",
    "        r += '{%c<=%d}' % ('e' if allow_indels else 's', num_err)\n",
    "    return r\n",
    "\n",
    "make_fuzzy_regex('hello', 1, allow_indels=True)"
   ]
  },
  {
   "cell_type": "code",
   "execution_count": null,
   "id": "95d131d3-67b4-4dad-a058-25353cadeac0",
   "metadata": {},
   "outputs": [],
   "source": [
    "make_fuzzy_regex('hello', 1, allow_indels=False)"
   ]
  },
  {
   "cell_type": "code",
   "execution_count": null,
   "id": "5214036f-5dcd-432f-bfce-586416f13a2d",
   "metadata": {},
   "outputs": [],
   "source": [
    "s = make_fuzzy_regex('hello', 1, name='mygroup')\n",
    "s"
   ]
  },
  {
   "cell_type": "code",
   "execution_count": null,
   "id": "604df62e-05af-43e9-b089-019c7c80416b",
   "metadata": {
    "tags": []
   },
   "outputs": [],
   "source": [
    "regex.match(s, 'hallo')"
   ]
  },
  {
   "cell_type": "code",
   "execution_count": null,
   "id": "bde7edc3-f5e4-4ea9-9e1f-40befa92629f",
   "metadata": {},
   "outputs": [],
   "source": [
    "import math\n",
    "\n",
    "def assemble_regex(const_regions):\n",
    "    regex_parts = []\n",
    "    for i,const_region in enumerate(const_regions):\n",
    "        num_mut_tolerated = math.ceil((len(const_region) / 10) * num_substitutions_tolerated_per_ten_bp)\n",
    "        is_indel_tolerated = (i == 0) and are_indels_tolerated_in_primers\n",
    "        \n",
    "        regex_parts.append(make_fuzzy_regex(const_region, \n",
    "                                            num_err = num_mut_tolerated,\n",
    "                                            allow_indels = is_indel_tolerated,\n",
    "                                            name = f'const_{i}'))\n",
    "        \n",
    "        regex_parts.append(make_fuzzy_regex('...',\n",
    "                                            num_err=0,\n",
    "                                            name = f'mut_{i}'))\n",
    "        \n",
    "    print('\\n'.join(regex_parts))\n",
    "    return ''.join(regex_parts)"
   ]
  },
  {
   "cell_type": "code",
   "execution_count": null,
   "id": "a741f299-ef5c-444f-a823-faffc3b5a857",
   "metadata": {},
   "outputs": [],
   "source": [
    "geno_for_regex = assemble_regex(for_read_constant_regions)"
   ]
  },
  {
   "cell_type": "code",
   "execution_count": null,
   "id": "ecf4f957-c476-4633-99a6-f5067a508c72",
   "metadata": {},
   "outputs": [],
   "source": [
    "geno_rev_regex = assemble_regex(rev_read_constant_regions)"
   ]
  },
  {
   "cell_type": "code",
   "execution_count": null,
   "id": "fee8f804-4283-41e7-9fd3-1754505bae9c",
   "metadata": {},
   "outputs": [],
   "source": [
    "with open(snakemake.output.geno_for_regex, 'w') as f:\n",
    "    f.write(geno_for_regex)\n",
    "\n",
    "with open(snakemake.output.geno_rev_regex, 'w') as f:\n",
    "    f.write(geno_rev_regex)"
   ]
  }
 ],
 "metadata": {
  "kernelspec": {
   "display_name": "Python 3",
   "language": "python",
   "name": "python3"
  },
  "language_info": {
   "codemirror_mode": {
    "name": "ipython",
    "version": 3
   },
   "file_extension": ".py",
   "mimetype": "text/x-python",
   "name": "python",
   "nbconvert_exporter": "python",
   "pygments_lexer": "ipython3",
   "version": "3.8.5"
  }
 },
 "nbformat": 4,
 "nbformat_minor": 5
}
