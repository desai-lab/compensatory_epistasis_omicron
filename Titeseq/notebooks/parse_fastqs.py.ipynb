{
 "cells": [
  {
   "cell_type": "code",
   "execution_count": 16,
   "id": "a90ceb70",
   "metadata": {
    "tags": [
     "snakemake-job-properties"
    ]
   },
   "outputs": [],
   "source": [
    "\n",
    "######## snakemake preamble start (automatically inserted, do not edit) ########\n",
    "#import sys; sys.path.extend(['/home/jeffjar/mambaforge/envs/omicron/lib/python3.8/site-packages', '/mnt/c/Users/jeffj/Documents/lab/desai-lab/project-omicron/omicron/Titeseq/notebooks']); import pickle; snakemake = pickle.loads(b'\\x80\\x04\\x95\\x9b\\x0c\\x00\\x00\\x00\\x00\\x00\\x00\\x8c\\x10snakemake.script\\x94\\x8c\\tSnakemake\\x94\\x93\\x94)\\x81\\x94}\\x94(\\x8c\\x05input\\x94\\x8c\\x0csnakemake.io\\x94\\x8c\\nInputFiles\\x94\\x93\\x94)\\x81\\x94(\\x8c.data/simulated/RBD_a_115_4_S40_R1_001.fastq.gz\\x94\\x8c.data/simulated/RBD_a_115_4_S40_R2_001.fastq.gz\\x94e}\\x94(\\x8c\\x06_names\\x94}\\x94(\\x8c\\x0cread_1_fastq\\x94K\\x00N\\x86\\x94\\x8c\\x0cread_2_fastq\\x94K\\x01N\\x86\\x94u\\x8c\\x12_allowed_overrides\\x94]\\x94(\\x8c\\x05index\\x94\\x8c\\x04sort\\x94eh\\x15\\x8c\\tfunctools\\x94\\x8c\\x07partial\\x94\\x93\\x94h\\x06\\x8c\\x19Namedlist._used_attribute\\x94\\x93\\x94\\x85\\x94R\\x94(h\\x1b)}\\x94\\x8c\\x05_name\\x94h\\x15sNt\\x94bh\\x16h\\x19h\\x1b\\x85\\x94R\\x94(h\\x1b)}\\x94h\\x1fh\\x16sNt\\x94bh\\x0fh\\nh\\x11h\\x0bub\\x8c\\x06output\\x94h\\x06\\x8c\\x0bOutputFiles\\x94\\x93\\x94)\\x81\\x94\\x8c+results/parsed_fastq/RBD_a_115_4_S40.tsv.gz\\x94a}\\x94(h\\r}\\x94\\x8c\\x03tsv\\x94K\\x00N\\x86\\x94sh\\x13]\\x94(h\\x15h\\x16eh\\x15h\\x19h\\x1b\\x85\\x94R\\x94(h\\x1b)}\\x94h\\x1fh\\x15sNt\\x94bh\\x16h\\x19h\\x1b\\x85\\x94R\\x94(h\\x1b)}\\x94h\\x1fh\\x16sNt\\x94bh,h)ub\\x8c\\x06params\\x94h\\x06\\x8c\\x06Params\\x94\\x93\\x94)\\x81\\x94(\\x8c\\x15metadata/OM_col_i.tsv\\x94\\x8c\\x15metadata/OM_row_i.tsv\\x94e}\\x94(h\\r}\\x94(\\x8c\\x0ecol_inline_idx\\x94K\\x00N\\x86\\x94\\x8c\\x0erow_inline_idx\\x94K\\x01N\\x86\\x94uh\\x13]\\x94(h\\x15h\\x16eh\\x15h\\x19h\\x1b\\x85\\x94R\\x94(h\\x1b)}\\x94h\\x1fh\\x15sNt\\x94bh\\x16h\\x19h\\x1b\\x85\\x94R\\x94(h\\x1b)}\\x94h\\x1fh\\x16sNt\\x94bh?h;hAh<ub\\x8c\\twildcards\\x94h\\x06\\x8c\\tWildcards\\x94\\x93\\x94)\\x81\\x94\\x8c\\x0fRBD_a_115_4_S40\\x94a}\\x94(h\\r}\\x94\\x8c\\nfastq_name\\x94K\\x00N\\x86\\x94sh\\x13]\\x94(h\\x15h\\x16eh\\x15h\\x19h\\x1b\\x85\\x94R\\x94(h\\x1b)}\\x94h\\x1fh\\x15sNt\\x94bh\\x16h\\x19h\\x1b\\x85\\x94R\\x94(h\\x1b)}\\x94h\\x1fh\\x16sNt\\x94bhShPub\\x8c\\x07threads\\x94K\\x01\\x8c\\tresources\\x94h\\x06\\x8c\\tResources\\x94\\x93\\x94)\\x81\\x94(K\\x01K\\x01\\x8c\\x04/tmp\\x94e}\\x94(h\\r}\\x94(\\x8c\\x06_cores\\x94K\\x00N\\x86\\x94\\x8c\\x06_nodes\\x94K\\x01N\\x86\\x94\\x8c\\x06tmpdir\\x94K\\x02N\\x86\\x94uh\\x13]\\x94(h\\x15h\\x16eh\\x15h\\x19h\\x1b\\x85\\x94R\\x94(h\\x1b)}\\x94h\\x1fh\\x15sNt\\x94bh\\x16h\\x19h\\x1b\\x85\\x94R\\x94(h\\x1b)}\\x94h\\x1fh\\x16sNt\\x94bhfK\\x01hhK\\x01hjhcub\\x8c\\x03log\\x94h\\x06\\x8c\\x03Log\\x94\\x93\\x94)\\x81\\x94}\\x94(h\\r}\\x94h\\x13]\\x94(h\\x15h\\x16eh\\x15h\\x19h\\x1b\\x85\\x94R\\x94(h\\x1b)}\\x94h\\x1fh\\x15sNt\\x94bh\\x16h\\x19h\\x1b\\x85\\x94R\\x94(h\\x1b)}\\x94h\\x1fh\\x16sNt\\x94bub\\x8c\\x06config\\x94}\\x94(\\x8c\\rancestral_seq\\x94X\\\\\\x02\\x00\\x00AACATAACAAACTTATGCCCCTTTggaGAAGTATTTAATGCTACTAGATTCGCATCGGTTTATGCCTGGAATAGAAAGAGGATCAGTAACTGCGTTGCTGATTATTCTGTTTTGTATAACtcgGCCtcgTTCtcgACATTTAAGTGCTACGGGGTCTCGCCTACCAAATTAAACGATTTATGCTTCACCAATGTGTACGCCGATTCTTTTGTGATCAGGGGTGACGAAGTTAGACAGATCGCTCCAGGGCAAACTGGTaagATTGCCGATTACAACTACAAGCTTCCAGACGACTTCACTGGTTGCGTAATAGCATGGAACTCAAACaacTTAGACTCAAAGGTCggaGGAAATTATAACTACCTGTACCGTCTTTTCAGGAAATCAAATTTGAAGCCGTTCGAAAGGGACATCTCCACGGAGATATATCAGGCCGGTtcaacaCCCTGCAATGGCGTCgagGGCTTCAACTGTTACTTCCCCCTAcagTCATACggtTTCcagCCTACAaacGGAGTTGGCtacCAGCCATACAGAGTTGTGGTTTTATCTTTCGAGTTGTTGCACGCCCCTGCTACGGTTTGTGGTCCTAAGAAGTCCACT\\n\\x94\\x8c\\x0edescendant_seq\\x94X\\\\\\x02\\x00\\x00AACATAACAAACTTATGCCCCTTTGACGAAGTATTTAATGCTACTAGATTCGCATCGGTTTATGCCTGGAATAGAAAGAGGATCAGTAACTGCGTTGCTGATTATTCTGTTTTGTATAACCTGGCCCCTTTCTTCACATTTAAGTGCTACGGGGTCTCGCCTACCAAATTAAACGATTTATGCTTCACCAATGTGTACGCCGATTCTTTTGTGATCAGGGGTGACGAAGTTAGACAGATCGCTCCAGGGCAAACTGGTAATATTGCCGATTACAACTACAAGCTTCCAGACGACTTCACTGGTTGCGTAATAGCATGGAACTCAAACAAGTTAGACTCAAAGGTCTCAGGAAATTATAACTACCTGTACCGTCTTTTCAGGAAATCAAATTTGAAGCCGTTCGAAAGGGACATCTCCACGGAGATATATCAGGCCGGTAACAAGCCCTGCAATGGCGTCGCCGGCTTCAACTGTTACTTCCCCCTAAGGTCATACTCTTTCAGGCCTACATACGGAGTTGGCCATCAGCCATACAGAGTTGTGGTTTTATCTTTCGAGTTGTTGCACGCCCCTGCTACGGTTTGTGGTCCTAAGAAGTCCACT\\n\\x94\\x8c\\x1csequence_begins_with_residue\\x94MK\\x01\\x8c\\x0emutation_names\\x94]\\x94(\\x8c\\x05G339D\\x94\\x8c\\x05S371L\\x94\\x8c\\x05S373P\\x94\\x8c\\x05S375F\\x94\\x8c\\x05K417N\\x94\\x8c\\x05N440K\\x94\\x8c\\x05G446S\\x94\\x8c\\x05S477N\\x94\\x8c\\x05T478K\\x94\\x8c\\x05E484A\\x94\\x8c\\x05Q493R\\x94\\x8c\\x05G496S\\x94\\x8c\\x05Q498R\\x94\\x8c\\x05N501Y\\x94\\x8c\\x05Y505H\\x94e\\x8c\\rnum_mutations\\x94K\\x0f\\x8c\\x1dnum_mutations_on_forward_read\\x94K\\x05\\x8c\\x1dnum_mutations_on_reverse_read\\x94K\\n\\x8c\\x19foward_read_annealing_seq\\x94\\x8c\\x14GGTCGGCTAGCCATATGAAC\\x94\\x8c\\x1areverse_read_annealing_seq\\x94\\x8c\\x18GATAAAACCACAACTCTGTATGGC\\x94\\x8c\\x1cforward_read_starting_offset\\x94J\\xef\\xff\\xff\\xff\\x8c\\x1creverse_read_starting_offset\\x94K4\\x8c\\numi_length\\x94K\\x08\\x8c\\x1csynonymously_coded_mutations\\x94]\\x94\\x8c\\x0bcollections\\x94\\x8c\\x0bOrderedDict\\x94\\x93\\x94)R\\x94(\\x8c\\rmutation_name\\x94\\x8c\\x05K417N\\x94\\x8c\\x13synonomous_position\\x94Mz\\x01\\x8c\\x07codon_0\\x94\\x8c\\x03AAG\\x94\\x8c\\x07codon_1\\x94\\x8c\\x03AAA\\x94ua\\x8c\\x08data_dir\\x94\\x8c\\x0edata/simulated\\x94\\x8c\\x12max_reads_per_file\\x94K2u\\x8c\\x04rule\\x94\\x8c\\x0cparse_fastqs\\x94\\x8c\\x0fbench_iteration\\x94N\\x8c\\tscriptdir\\x94\\x8cT/mnt/c/Users/jeffj/Documents/lab/desai-lab/project-omicron/omicron/Titeseq/notebooks\\x94ub.'); from snakemake.logging import logger; logger.printshellcmds = False; import os; os.chdir(r'/mnt/c/Users/jeffj/Documents/lab/desai-lab/project-omicron/omicron/Titeseq');\n",
    "######## snakemake preamble end #########\n"
   ]
  },
  {
   "cell_type": "code",
   "execution_count": 29,
   "id": "b030420d-6627-4cc6-8c39-88f02fc0151d",
   "metadata": {},
   "outputs": [],
   "source": [
    "import pandas as pd\n",
    "import gzip\n",
    "from Bio import SeqIO\n",
    "import regex"
   ]
  },
  {
   "cell_type": "code",
   "execution_count": 61,
   "id": "7a84f658-d183-4db0-ae62-1815d96ac7f1",
   "metadata": {},
   "outputs": [],
   "source": [
    "fastq_filepath_read1 = snakemake.input.read_1_fastq\n",
    "fastq_filepath_read2 = snakemake.input.read_2_fastq\n",
    "\n",
    "outfile = snakemake.output.tsv\n",
    "statsfile = snakemake.output.stats\n",
    "\n",
    "max_reads_to_consider = snakemake.config['max_reads_per_file']\n",
    "\n",
    "UMI_length = snakemake.config['umi_length']\n",
    "\n",
    "col_inline_idx = pd.read_table(snakemake.params.col_inline_idx, index_col=[0])\n",
    "row_inline_idx = pd.read_table(snakemake.params.row_inline_idx, index_col=[0])"
   ]
  },
  {
   "cell_type": "markdown",
   "id": "0df70433-1163-443a-8989-7fa2ae65b670",
   "metadata": {},
   "source": [
    "# Create regexes for parsing reads\n",
    "\n",
    "The sequencer demux has already taken off the i5 / i7 index, so now our read is just\n",
    "\n",
    "`UMI -- inline index -- read`\n",
    "\n",
    "We just want to separate these at this point"
   ]
  },
  {
   "cell_type": "code",
   "execution_count": 45,
   "id": "a66d2280-68e4-482f-b304-ac5eb4456ec6",
   "metadata": {},
   "outputs": [],
   "source": [
    "def make_or_regex(seqs, name, dist=0):\n",
    "    '''Returns a regex string that is an OR of all the seqs in seqs.\n",
    "    The capture is given a name `name`.\n",
    "    Substitutions only are accepted within edit distance `dist`.\n",
    "    '''\n",
    "    ret = f\"(?P<{name}>{'|'.join(seqs)})\"\n",
    "    if dist != 0:\n",
    "        ret += '{s<=%d}' % dist\n",
    "    return ret\n",
    "\n",
    "UMI_regex = \"(?P<UMI>[ACGT]{%d})\" % UMI_length\n",
    "\n",
    "cols_regex = make_or_regex(col_inline_idx['Index'], name='index', dist=2)\n",
    "rows_regex = make_or_regex(row_inline_idx['Index'], name='index', dist=2)\n",
    "\n",
    "read_seq_regex = \"(?P<read_seq>[ACGTN]+)\"\n",
    "\n",
    "read_1_regex = regex.compile(UMI_regex + cols_regex + read_seq_regex)\n",
    "read_2_regex = regex.compile(UMI_regex + rows_regex + read_seq_regex)"
   ]
  },
  {
   "cell_type": "code",
   "execution_count": 46,
   "id": "1759494d-105d-4110-a825-bc4fb9b8c5da",
   "metadata": {},
   "outputs": [
    {
     "data": {
      "text/plain": [
       "regex.Regex('(?P<UMI>[ACGT]{8})(?P<index>TTGATCG|CATTCTCGAG|CCTTAGTACTA|AGTGGAATACCT|GGTATCA|GATGTCCT|CTCATCCAG|GACGGAACTC|ATCGCAGGCAT|TCACGACTAGTA){s<=2}(?P<read_seq>[ACGTN]+)', flags=regex.V0)"
      ]
     },
     "execution_count": 46,
     "metadata": {},
     "output_type": "execute_result"
    }
   ],
   "source": [
    "read_1_regex"
   ]
  },
  {
   "cell_type": "code",
   "execution_count": 52,
   "id": "97bd4dce-a9f2-411e-9742-8ad887721bcf",
   "metadata": {},
   "outputs": [],
   "source": [
    "# test_string = ('AAAAAAAA' +\n",
    "# 'GGTATCA' +\n",
    "# 'ACGT')\n",
    "# print(test_string)\n",
    "\n",
    "# a = read_1_regex.match(test_string)\n",
    "# a.group('index')"
   ]
  },
  {
   "cell_type": "code",
   "execution_count": 53,
   "id": "7cdb3f94-12d8-449f-b89d-f70e8d508794",
   "metadata": {},
   "outputs": [],
   "source": [
    "total_reads_considered = 0\n",
    "reads_matching_pattern = 0\n",
    "\n",
    "read_1_handle =  gzip.open(fastq_filepath_read1, 'rt')\n",
    "read_2_handle =  gzip.open(fastq_filepath_read2, 'rt')\n",
    "\n",
    "parsed_reads = []\n",
    "\n",
    "for (read_1, read_2) in zip(\n",
    "            SeqIO.parse(read_1_handle, 'fastq'),\n",
    "            SeqIO.parse(read_2_handle, 'fastq')):\n",
    "\n",
    "    if total_reads_considered >= max_reads_to_consider:\n",
    "        break\n",
    "    total_reads_considered += 1\n",
    "\n",
    "    match_1 = read_1_regex.match(str(read_1.seq))\n",
    "    match_2 = read_2_regex.match(str(read_2.seq))\n",
    "\n",
    "    if match_1 is None or match_2 is None:\n",
    "        continue\n",
    "    reads_matching_pattern += 1\n",
    "\n",
    "    UMI_1 = match_1.group('UMI')\n",
    "    inline_idx_1 = match_1.group('index')\n",
    "    read_1_seq = match_1.group('read_seq')\n",
    "    \n",
    "    UMI_2 = match_2.group('UMI')\n",
    "    inline_idx_2 = match_2.group('index')\n",
    "    read_2_seq = match_2.group('read_seq')\n",
    "    \n",
    "    parsed_reads.append((inline_idx_1, inline_idx_2, UMI_1, UMI_2, read_1_seq, read_2_seq))\n",
    "\n",
    "read_1_handle.close()\n",
    "read_2_handle.close()"
   ]
  },
  {
   "cell_type": "code",
   "execution_count": 59,
   "id": "cb65d19b-447d-4b66-b88f-ab8bc6384ec3",
   "metadata": {},
   "outputs": [
    {
     "data": {
      "text/html": [
       "<div>\n",
       "<style scoped>\n",
       "    .dataframe tbody tr th:only-of-type {\n",
       "        vertical-align: middle;\n",
       "    }\n",
       "\n",
       "    .dataframe tbody tr th {\n",
       "        vertical-align: top;\n",
       "    }\n",
       "\n",
       "    .dataframe thead th {\n",
       "        text-align: right;\n",
       "    }\n",
       "</style>\n",
       "<table border=\"1\" class=\"dataframe\">\n",
       "  <thead>\n",
       "    <tr style=\"text-align: right;\">\n",
       "      <th></th>\n",
       "      <th>col_idx</th>\n",
       "      <th>row_idx</th>\n",
       "      <th>UMI_1</th>\n",
       "      <th>UMI_2</th>\n",
       "      <th>read_1</th>\n",
       "      <th>read_2</th>\n",
       "    </tr>\n",
       "  </thead>\n",
       "  <tbody>\n",
       "    <tr>\n",
       "      <th>0</th>\n",
       "      <td>GGTATCA</td>\n",
       "      <td>GAGATCAC</td>\n",
       "      <td>GCCGCTAT</td>\n",
       "      <td>TCTCGTAG</td>\n",
       "      <td>GATAAAACCACAACTCTGTATGGCTGGTAGCCAACTCCGTATGTAG...</td>\n",
       "      <td>GGGTCGGCTAGCCATATGAACATAACAAACTTATGCCCCTTTGACG...</td>\n",
       "    </tr>\n",
       "    <tr>\n",
       "      <th>1</th>\n",
       "      <td>GGTATCA</td>\n",
       "      <td>GAGATCAC</td>\n",
       "      <td>TCCTCCGG</td>\n",
       "      <td>GAGATAAG</td>\n",
       "      <td>GGTCGGCTAGCCATATGAACATAACAAACTTATGCCCCTTTGACGA...</td>\n",
       "      <td>GATAAAACCACAACTCTGTATGGCTGGTAGCCAACTCCGTATGTAG...</td>\n",
       "    </tr>\n",
       "    <tr>\n",
       "      <th>2</th>\n",
       "      <td>GGTATCA</td>\n",
       "      <td>GAGATCAC</td>\n",
       "      <td>CACTTTCC</td>\n",
       "      <td>CCCCTGTT</td>\n",
       "      <td>GATAAAACCACAACTCTGTATGGCTGATGGCCAACTCCGTATGTGA...</td>\n",
       "      <td>GGTCGGCTAGCCATATGAACATAACAAACTTATGCCCCTTTGACGA...</td>\n",
       "    </tr>\n",
       "    <tr>\n",
       "      <th>3</th>\n",
       "      <td>GGTATCA</td>\n",
       "      <td>GAGATCAC</td>\n",
       "      <td>TGAACTTA</td>\n",
       "      <td>ATGTTTTA</td>\n",
       "      <td>GGTCGGCTAGCCATATGAACATAACAAACTTATGCCCCTTTGGAGA...</td>\n",
       "      <td>GATAAAACCACAACTCTGTATGGCTGATGGCCAACTCCGTTTGTAG...</td>\n",
       "    </tr>\n",
       "    <tr>\n",
       "      <th>4</th>\n",
       "      <td>GGTATCA</td>\n",
       "      <td>GAGATCAC</td>\n",
       "      <td>ACCGCGCC</td>\n",
       "      <td>GGCAGAGG</td>\n",
       "      <td>GGTCGGCTAGCCATATGAACATAACAAACTTATGCCCCTTTGACGA...</td>\n",
       "      <td>GATAAAACCACAACTCTGTATGGCTGGTAGCCAACTCCGTATGTAG...</td>\n",
       "    </tr>\n",
       "  </tbody>\n",
       "</table>\n",
       "</div>"
      ],
      "text/plain": [
       "   col_idx   row_idx     UMI_1     UMI_2  \\\n",
       "0  GGTATCA  GAGATCAC  GCCGCTAT  TCTCGTAG   \n",
       "1  GGTATCA  GAGATCAC  TCCTCCGG  GAGATAAG   \n",
       "2  GGTATCA  GAGATCAC  CACTTTCC  CCCCTGTT   \n",
       "3  GGTATCA  GAGATCAC  TGAACTTA  ATGTTTTA   \n",
       "4  GGTATCA  GAGATCAC  ACCGCGCC  GGCAGAGG   \n",
       "\n",
       "                                              read_1  \\\n",
       "0  GATAAAACCACAACTCTGTATGGCTGGTAGCCAACTCCGTATGTAG...   \n",
       "1  GGTCGGCTAGCCATATGAACATAACAAACTTATGCCCCTTTGACGA...   \n",
       "2  GATAAAACCACAACTCTGTATGGCTGATGGCCAACTCCGTATGTGA...   \n",
       "3  GGTCGGCTAGCCATATGAACATAACAAACTTATGCCCCTTTGGAGA...   \n",
       "4  GGTCGGCTAGCCATATGAACATAACAAACTTATGCCCCTTTGACGA...   \n",
       "\n",
       "                                              read_2  \n",
       "0  GGGTCGGCTAGCCATATGAACATAACAAACTTATGCCCCTTTGACG...  \n",
       "1  GATAAAACCACAACTCTGTATGGCTGGTAGCCAACTCCGTATGTAG...  \n",
       "2  GGTCGGCTAGCCATATGAACATAACAAACTTATGCCCCTTTGACGA...  \n",
       "3  GATAAAACCACAACTCTGTATGGCTGATGGCCAACTCCGTTTGTAG...  \n",
       "4  GATAAAACCACAACTCTGTATGGCTGGTAGCCAACTCCGTATGTAG...  "
      ]
     },
     "execution_count": 59,
     "metadata": {},
     "output_type": "execute_result"
    }
   ],
   "source": [
    "parsed_reads_df = pd.DataFrame(parsed_reads,\n",
    "                               columns=['col_idx', 'row_idx', 'UMI_1', 'UMI_2', 'read_1', 'read_2'])\n",
    "parsed_reads_df.head()"
   ]
  },
  {
   "cell_type": "code",
   "execution_count": 60,
   "id": "569de463-2292-49e7-bcf3-571152d22856",
   "metadata": {},
   "outputs": [],
   "source": [
    "parsed_reads_df.to_csv(outfile, sep='\\t')"
   ]
  },
  {
   "cell_type": "code",
   "execution_count": 68,
   "id": "2559b471-5c36-4686-9bc1-056832eb65e6",
   "metadata": {},
   "outputs": [
    {
     "data": {
      "text/html": [
       "<div>\n",
       "<style scoped>\n",
       "    .dataframe tbody tr th:only-of-type {\n",
       "        vertical-align: middle;\n",
       "    }\n",
       "\n",
       "    .dataframe tbody tr th {\n",
       "        vertical-align: top;\n",
       "    }\n",
       "\n",
       "    .dataframe thead th {\n",
       "        text-align: right;\n",
       "    }\n",
       "</style>\n",
       "<table border=\"1\" class=\"dataframe\">\n",
       "  <thead>\n",
       "    <tr style=\"text-align: right;\">\n",
       "      <th></th>\n",
       "      <th>total_reads_considered</th>\n",
       "      <th>reads_matching_pattern</th>\n",
       "      <th>fraction_parsed</th>\n",
       "    </tr>\n",
       "    <tr>\n",
       "      <th>fastq_file</th>\n",
       "      <th></th>\n",
       "      <th></th>\n",
       "      <th></th>\n",
       "    </tr>\n",
       "  </thead>\n",
       "  <tbody>\n",
       "    <tr>\n",
       "      <th>RBD_a_115_4_S40</th>\n",
       "      <td>50</td>\n",
       "      <td>50</td>\n",
       "      <td>1.0</td>\n",
       "    </tr>\n",
       "  </tbody>\n",
       "</table>\n",
       "</div>"
      ],
      "text/plain": [
       "                 total_reads_considered  reads_matching_pattern  \\\n",
       "fastq_file                                                        \n",
       "RBD_a_115_4_S40                      50                      50   \n",
       "\n",
       "                 fraction_parsed  \n",
       "fastq_file                        \n",
       "RBD_a_115_4_S40              1.0  "
      ]
     },
     "execution_count": 68,
     "metadata": {},
     "output_type": "execute_result"
    }
   ],
   "source": [
    "# Write stats\n",
    "stats_df = pd.DataFrame({\n",
    "    'fastq_file' : [snakemake.wildcards.fastq_name],\n",
    "    'total_reads_considered': [total_reads_considered],\n",
    "    'reads_matching_pattern': [reads_matching_pattern], \n",
    "    'fraction_parsed' : [reads_matching_pattern / total_reads_considered]\n",
    "}).set_index('fastq_file')\n",
    "stats_df"
   ]
  },
  {
   "cell_type": "code",
   "execution_count": 70,
   "id": "5313c53d-0e51-4a78-8b3a-1f5322a1f3a8",
   "metadata": {},
   "outputs": [],
   "source": [
    "stats_df.to_csv(statsfile, sep='\\t')"
   ]
  }
 ],
 "metadata": {
  "kernelspec": {
   "display_name": "Python 3",
   "language": "python",
   "name": "python3"
  },
  "language_info": {
   "codemirror_mode": {
    "name": "ipython",
    "version": 3
   },
   "file_extension": ".py",
   "mimetype": "text/x-python",
   "name": "python",
   "nbconvert_exporter": "python",
   "pygments_lexer": "ipython3",
   "version": "3.8.5"
  }
 },
 "nbformat": 4,
 "nbformat_minor": 5
}
