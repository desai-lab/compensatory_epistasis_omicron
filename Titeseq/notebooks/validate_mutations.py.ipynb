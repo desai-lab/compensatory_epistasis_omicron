{
 "cells": [
  {
   "cell_type": "markdown",
   "id": "5929ff64-43eb-4c94-b979-96bf62e57cd8",
   "metadata": {
    "tags": []
   },
   "source": [
    "Import"
   ]
  },
  {
   "cell_type": "code",
   "execution_count": null,
   "id": "b6bf0dd6-d15d-466c-906e-332966f4e3ad",
   "metadata": {},
   "outputs": [],
   "source": [
    "from Bio.Seq import Seq\n",
    "import pandas as pd\n",
    "import re\n",
    "import numpy as np\n",
    "\n",
    "def rc(x):\n",
    "    return str(Seq(x).reverse_complement())\n",
    "\n",
    "def translate(x):\n",
    "    return str(Seq(x).translate())"
   ]
  },
  {
   "cell_type": "markdown",
   "id": "024e02f4-1fa3-472a-97a9-20c346dd9489",
   "metadata": {},
   "source": [
    "Read from snakemake"
   ]
  },
  {
   "cell_type": "code",
   "execution_count": null,
   "id": "b086505c-cdc6-4979-acb8-a679815e09bd",
   "metadata": {},
   "outputs": [],
   "source": [
    "seq_0 = snakemake.config['ancestral_seq'].strip().upper()\n",
    "seq_1 = snakemake.config['descendant_seq'].strip().upper()\n",
    "starting_resnum = snakemake.config['sequence_begins_with_residue']\n",
    "\n",
    "for seq in [seq_0, seq_1]:\n",
    "    assert len(seq_0) % 3 == 0, 'Ancestral seq length should be multiple of 3'\n",
    "    assert len(seq_1) % 3 == 0, 'Descendant seq length should be multiple of 3'\n",
    "    assert len(seq_0) == len(seq_1), 'Ancestral and Descendant seqs should be the same length'\n",
    "\n",
    "mutation_list_file = snakemake.output.mutation_list\n",
    "\n",
    "synonymously_coded_mutations = snakemake.config['synonymously_coded_mutations']"
   ]
  },
  {
   "cell_type": "markdown",
   "id": "b1d44cc4-37a7-4672-a07d-1cce989b5b71",
   "metadata": {},
   "source": [
    "# Parse mutations from config file\n",
    "\n",
    "Make sure everything is consistent"
   ]
  },
  {
   "cell_type": "code",
   "execution_count": null,
   "id": "26f5c1b6-f052-4ef2-ad5a-a86c7a0d90d5",
   "metadata": {},
   "outputs": [],
   "source": [
    "codons_0 = re.findall('...', seq_0)\n",
    "codons_1 = re.findall('...', seq_1)\n",
    "\n",
    "mutations = []\n",
    "num_mutations = 0\n",
    "for i,(codon_0, codon_1) in enumerate(zip(codons_0, codons_1)):\n",
    "    if codon_0 == codon_1:\n",
    "        continue\n",
    "\n",
    "    aa_0 = translate(codon_0)\n",
    "    aa_1 = translate(codon_1)\n",
    "    if aa_0 != aa_1:\n",
    "        resnum = starting_resnum + i\n",
    "        mut_name = f'{aa_0}{resnum}{aa_1}'\n",
    "        num_mutations += 1\n",
    "        mutation = (mut_name, i*3, codon_0, codon_1, aa_0, aa_1, resnum)\n",
    "        mutations.append(mutation)"
   ]
  },
  {
   "cell_type": "code",
   "execution_count": null,
   "id": "4c8da277-032d-477e-ac74-b4747c544690",
   "metadata": {},
   "outputs": [],
   "source": [
    "mutations_df = (pd.DataFrame(mutations, \n",
    "                             index=range(1, len(mutations) + 1), \n",
    "                             columns=['mut_name', 'nt_pos', 'codon_0', 'codon_1', 'aa_0', 'aa_1', 'aa_pos'])\n",
    "                .set_index('mut_name')\n",
    "               )\n",
    "\n"
   ]
  },
  {
   "cell_type": "code",
   "execution_count": null,
   "id": "5c2c00c2-776a-48d7-9777-fb596bf21671",
   "metadata": {},
   "outputs": [],
   "source": [
    "# Check that the mutation names provided are consistent with\n",
    "# the ones present between the sequences\n",
    "assert set([a.strip() for a in mutations_df.index]) == set([a.strip() for a in snakemake.config['mutation_names']]), 'Mutations detected in sequences are not consistent with those in config file.\\nMutations detected:' + '\\n'.join(mutations_df.index) + '\\nConfig file mutations:' + '\\n'.join(snakemake.config['mutation_names'])\n",
    "assert num_mutations == int(snakemake.config['num_mutations']), f'Number of mutations in detected sequences ({num_mutations}) is not consistent with config `num_mutations`'"
   ]
  },
  {
   "cell_type": "markdown",
   "id": "7203600f-81c2-4186-8bea-97a3d0700929",
   "metadata": {},
   "source": [
    "## Account for synonomously coded mutations\n",
    "\n",
    "For the mutations lying outside the NGS read window, we code for these with a synonomous change at another residue. We modify the corresponding rows in the mutation table"
   ]
  },
  {
   "cell_type": "code",
   "execution_count": null,
   "id": "3f988995-0283-418c-8b41-dfd0c2da506f",
   "metadata": {},
   "outputs": [],
   "source": [
    "mutations_df['synonymous'] = False\n",
    "\n",
    "for syn_mut in synonymously_coded_mutations:\n",
    "    mut_name = syn_mut['mutation_name']\n",
    "    assert mut_name in mutations_df.index, \"Synonymous mutation {mut_name} is not in list of mutations\"\n",
    "    \n",
    "    nt_pos = 3 * (syn_mut['synonomous_position'] - starting_resnum)\n",
    "    \n",
    "    mutations_df.loc[mut_name, 'nt_pos'] = nt_pos\n",
    "    mutations_df.loc[mut_name, 'codon_0'] = syn_mut['codon_0']\n",
    "    mutations_df.loc[mut_name, 'codon_1'] = syn_mut['codon_1']\n",
    "    mutations_df.loc[mut_name, 'aa_0'] = translate(syn_mut['codon_0'])\n",
    "    mutations_df.loc[mut_name, 'aa_1'] = translate(syn_mut['codon_1'])\n",
    "    mutations_df.loc[mut_name, 'aa_pos'] = syn_mut['synonomous_position']\n",
    "    mutations_df.loc[mut_name, 'synonymous'] = True\n",
    "    \n",
    "mutations_df"
   ]
  },
  {
   "cell_type": "code",
   "execution_count": null,
   "id": "efb42289-e15c-496b-993e-8c565a8b75bf",
   "metadata": {},
   "outputs": [],
   "source": [
    "mutations_df.to_csv(mutation_list_file, sep='\\t')"
   ]
  }
 ],
 "metadata": {
  "kernelspec": {
   "display_name": "Python 3",
   "language": "python",
   "name": "python3"
  },
  "language_info": {
   "codemirror_mode": {
    "name": "ipython",
    "version": 3
   },
   "file_extension": ".py",
   "mimetype": "text/x-python",
   "name": "python",
   "nbconvert_exporter": "python",
   "pygments_lexer": "ipython3",
   "version": "3.8.5"
  }
 },
 "nbformat": 4,
 "nbformat_minor": 5
}
