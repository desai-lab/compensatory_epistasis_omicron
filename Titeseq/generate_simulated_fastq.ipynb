{
 "cells": [
  {
   "cell_type": "code",
   "execution_count": 4,
   "id": "89afbca6-cc10-4a6e-9097-b98f17ea8e06",
   "metadata": {},
   "outputs": [],
   "source": [
    "import pandas as pd\n",
    "import os\n",
    "import gzip\n",
    "from Bio.Seq import Seq\n",
    "from Bio import SeqIO, bgzf\n",
    "import itertools\n",
    "import numpy as np\n",
    "import matplotlib.pyplot as plt\n",
    "import scipy.stats\n",
    "import seaborn as sns\n",
    "import yaml\n",
    "\n",
    "sns.set_context('talk')\n"
   ]
  },
  {
   "cell_type": "markdown",
   "id": "fe0ad813-d317-4e60-8338-8282bc51ac84",
   "metadata": {},
   "source": [
    "This notebook generates \"simulated\" titeseq data to test our pipelines before actually running it on the Titeseq data. It uses the NGS results from genewiz. Before running this you should copy the data from genewiz into the directory `Titeseq/data`."
   ]
  },
  {
   "cell_type": "markdown",
   "id": "5446ee3c-df54-4d2f-81d9-09bbd83957fd",
   "metadata": {},
   "source": [
    "# Read in metadata"
   ]
  },
  {
   "cell_type": "code",
   "execution_count": 2,
   "id": "02c62752-e906-4f7b-a6c0-9a9a3a6ed2a2",
   "metadata": {},
   "outputs": [
    {
     "data": {
      "text/html": [
       "<div>\n",
       "<style scoped>\n",
       "    .dataframe tbody tr th:only-of-type {\n",
       "        vertical-align: middle;\n",
       "    }\n",
       "\n",
       "    .dataframe tbody tr th {\n",
       "        vertical-align: top;\n",
       "    }\n",
       "\n",
       "    .dataframe thead th {\n",
       "        text-align: right;\n",
       "    }\n",
       "</style>\n",
       "<table border=\"1\" class=\"dataframe\">\n",
       "  <thead>\n",
       "    <tr style=\"text-align: right;\">\n",
       "      <th></th>\n",
       "      <th>construct</th>\n",
       "      <th>replicate</th>\n",
       "      <th>concentration</th>\n",
       "      <th>bin</th>\n",
       "      <th>sample_name</th>\n",
       "      <th>P5</th>\n",
       "      <th>P7</th>\n",
       "      <th>OM_col_i</th>\n",
       "      <th>OM_row_i</th>\n",
       "      <th>cell count</th>\n",
       "    </tr>\n",
       "    <tr>\n",
       "      <th>sample_id</th>\n",
       "      <th></th>\n",
       "      <th></th>\n",
       "      <th></th>\n",
       "      <th></th>\n",
       "      <th></th>\n",
       "      <th></th>\n",
       "      <th></th>\n",
       "      <th></th>\n",
       "      <th></th>\n",
       "      <th></th>\n",
       "    </tr>\n",
       "  </thead>\n",
       "  <tbody>\n",
       "    <tr>\n",
       "      <th>1</th>\n",
       "      <td>RBD</td>\n",
       "      <td>a</td>\n",
       "      <td>7</td>\n",
       "      <td>1.0</td>\n",
       "      <td>RBD_a_7_1</td>\n",
       "      <td>1</td>\n",
       "      <td>1</td>\n",
       "      <td>1</td>\n",
       "      <td>1</td>\n",
       "      <td>10005</td>\n",
       "    </tr>\n",
       "    <tr>\n",
       "      <th>2</th>\n",
       "      <td>RBD</td>\n",
       "      <td>a</td>\n",
       "      <td>7</td>\n",
       "      <td>2.0</td>\n",
       "      <td>RBD_a_7_2</td>\n",
       "      <td>1</td>\n",
       "      <td>2</td>\n",
       "      <td>1</td>\n",
       "      <td>2</td>\n",
       "      <td>331939</td>\n",
       "    </tr>\n",
       "    <tr>\n",
       "      <th>3</th>\n",
       "      <td>RBD</td>\n",
       "      <td>a</td>\n",
       "      <td>7</td>\n",
       "      <td>3.0</td>\n",
       "      <td>RBD_a_7_3</td>\n",
       "      <td>1</td>\n",
       "      <td>3</td>\n",
       "      <td>1</td>\n",
       "      <td>3</td>\n",
       "      <td>351138</td>\n",
       "    </tr>\n",
       "    <tr>\n",
       "      <th>4</th>\n",
       "      <td>RBD</td>\n",
       "      <td>a</td>\n",
       "      <td>7</td>\n",
       "      <td>4.0</td>\n",
       "      <td>RBD_a_7_4</td>\n",
       "      <td>1</td>\n",
       "      <td>4</td>\n",
       "      <td>1</td>\n",
       "      <td>4</td>\n",
       "      <td>324292</td>\n",
       "    </tr>\n",
       "    <tr>\n",
       "      <th>5</th>\n",
       "      <td>RBD</td>\n",
       "      <td>a</td>\n",
       "      <td>75</td>\n",
       "      <td>1.0</td>\n",
       "      <td>RBD_a_75_1</td>\n",
       "      <td>1</td>\n",
       "      <td>5</td>\n",
       "      <td>1</td>\n",
       "      <td>5</td>\n",
       "      <td>11225</td>\n",
       "    </tr>\n",
       "  </tbody>\n",
       "</table>\n",
       "</div>"
      ],
      "text/plain": [
       "          construct replicate concentration  bin sample_name  P5  P7  \\\n",
       "sample_id                                                              \n",
       "1               RBD         a             7  1.0   RBD_a_7_1   1   1   \n",
       "2               RBD         a             7  2.0   RBD_a_7_2   1   2   \n",
       "3               RBD         a             7  3.0   RBD_a_7_3   1   3   \n",
       "4               RBD         a             7  4.0   RBD_a_7_4   1   4   \n",
       "5               RBD         a            75  1.0  RBD_a_75_1   1   5   \n",
       "\n",
       "           OM_col_i  OM_row_i  cell count  \n",
       "sample_id                                  \n",
       "1                 1         1       10005  \n",
       "2                 1         2      331939  \n",
       "3                 1         3      351138  \n",
       "4                 1         4      324292  \n",
       "5                 1         5       11225  "
      ]
     },
     "execution_count": 2,
     "metadata": {},
     "output_type": "execute_result"
    }
   ],
   "source": [
    "sample_sheet = pd.read_table('metadata/sample_info.tsv', index_col=0)\n",
    "sample_sheet.head()"
   ]
  },
  {
   "cell_type": "code",
   "execution_count": 11,
   "id": "12781dc4-0431-4dc7-9597-434c42aebe5b",
   "metadata": {},
   "outputs": [],
   "source": [
    "config = yaml.safe_load(open('metadata/config.yaml'))\n",
    "col_i = config['col_inline_indices']\n",
    "row_i = config['row_inline_indices'] "
   ]
  },
  {
   "cell_type": "markdown",
   "id": "9aecacef-4553-4618-8a08-7a56165d914c",
   "metadata": {},
   "source": [
    "# Read existing data\n",
    "\n",
    "We'll just use the existing NGS data from genewiz to generate fake data."
   ]
  },
  {
   "cell_type": "code",
   "execution_count": 12,
   "id": "05dad6c8-1597-4788-b8d0-64f7160b83a6",
   "metadata": {},
   "outputs": [],
   "source": [
    "def fastq_to_df(filename, debug_limit=500000):\n",
    "    reads = []\n",
    "    num_reads = 0\n",
    "    for read in SeqIO.parse(gzip.open(filename, 'rt'), 'fastq'):\n",
    "        num_reads += 1\n",
    "        if num_reads > debug_limit:\n",
    "            break\n",
    "        reads.append(str(read.seq))\n",
    "    return pd.Series(reads)\n",
    "\n",
    "read_1 = fastq_to_df('Titeseq/data/30-655666424/00_fastq/AM-OMI-LIB_R1_001.fastq.gz')\n",
    "read_2 = fastq_to_df('Titeseq/data/30-655666424/00_fastq/AM-OMI-LIB_R2_001.fastq.gz')\n"
   ]
  },
  {
   "cell_type": "markdown",
   "id": "cf008c56-1db6-44ac-ad93-c86f55118cc3",
   "metadata": {},
   "source": [
    " Attach on a random UMI and the correct row and col indices, maybe adding in some errors. then just save as fasta"
   ]
  },
  {
   "cell_type": "code",
   "execution_count": 13,
   "id": "e6903019-701c-469d-a2ee-dd674be9f462",
   "metadata": {
    "jupyter": {
     "source_hidden": true
    },
    "tags": []
   },
   "outputs": [],
   "source": [
    "def generate_UMIs(length, num):\n",
    "    arr = np.random.choice(['A','C','G','T'], size=length*num)\n",
    "    arr = arr.reshape((num, length))\n",
    "    arr = [''.join(row) for row in arr]\n",
    "    return arr"
   ]
  },
  {
   "cell_type": "code",
   "execution_count": 14,
   "id": "0bbb33cc-d790-4103-9ec9-10f8c0d838a9",
   "metadata": {},
   "outputs": [],
   "source": [
    "NUM_READS_PER_SAMPLE = 100\n",
    "UMI_LENGTH = 8\n",
    "n = NUM_READS_PER_SAMPLE\n",
    "\n",
    "for sample_id in sample_sheet.index:\n",
    "    read_1_subset = read_1[sample_id*n:(sample_id+1)*n]\n",
    "    col_idx = col_i[sample_sheet['OM_col_i'][sample_id]-1]\n",
    "    UMIs_1 = pd.Series(generate_UMIs(UMI_LENGTH, n), index=read_1_subset.index)\n",
    "    read_2_subset = read_2[sample_id*n:(sample_id+1)*n]\n",
    "    UMIs_2 = pd.Series(generate_UMIs(UMI_LENGTH, n), index=read_2_subset.index)\n",
    "    row_idx = row_i[sample_sheet['OM_row_i'][sample_id]-1]\n",
    "    \n",
    "    read_1_modif = UMIs_1 + col_idx + read_1_subset    \n",
    "    read_2_modif = UMIs_2 + row_idx + read_2_subset\n",
    "\n",
    "    records_1 = [SeqIO.SeqRecord(Seq(seq), str(id), letter_annotations=dict(phred_quality=[40]*len(seq))) for (id,seq) in read_1_modif.iteritems()]\n",
    "    records_2 = [SeqIO.SeqRecord(Seq(seq), str(id), letter_annotations=dict(phred_quality=[40]*len(seq))) for (id,seq) in read_2_modif.iteritems()]\n",
    "    \n",
    "    sample_name = sample_sheet['sample_name'][sample_id]\n",
    "    with bgzf.BgzfWriter(f'data/simulated/{sample_name}_S{sample_id}_R1_001.fastq.gz', 'wb') as outgz:\n",
    "        SeqIO.write(sequences=records_1, handle=outgz, format='fastq')\n",
    "    with bgzf.BgzfWriter(f'data/simulated/{sample_name}_S{sample_id}_R2_001.fastq.gz', 'wb') as outgz:\n",
    "        SeqIO.write(sequences=records_2, handle=outgz, format='fastq')"
   ]
  },
  {
   "cell_type": "markdown",
   "id": "902e7eca-629e-44e1-913a-a0f785f21c3f",
   "metadata": {},
   "source": [
    "# Check where errors are...\n",
    "\n",
    "The rest of this notebook is just to visualize where the sequencing errors are located. Run snakemake before this, as this uses the regexes generated by the pipeline"
   ]
  },
  {
   "cell_type": "code",
   "execution_count": 67,
   "id": "cb6b3b7c-f1cc-45a9-9f08-f1d37fdef342",
   "metadata": {},
   "outputs": [],
   "source": [
    "import regex\n",
    "geno_for_regex = regex.compile(open('results/regexes/geno_for_regex.txt').read())\n",
    "geno_rev_regex = regex.compile(open('results/regexes/geno_rev_regex.txt').read())\n",
    "\n",
    "matches_1 = [geno_for_regex.match(s) for s in read_1]\n",
    "matches_2 = [geno_rev_regex.match(s) for s in read_2]\n",
    "\n",
    "matches = [(m1, m2) for (m1, m2) in zip(matches_1, matches_2)\n",
    "           if m1 and m2]"
   ]
  },
  {
   "cell_type": "code",
   "execution_count": 68,
   "id": "37e133bc-1e80-4a5a-9b5a-7a61f43eb2db",
   "metadata": {},
   "outputs": [
    {
     "name": "stdout",
     "output_type": "stream",
     "text": [
      "num matched:\t82391\n",
      "num reads:\t288495\n"
     ]
    }
   ],
   "source": [
    "print('num matched:', len(matches), sep='\\t')\n",
    "print('num reads:', len(read_1), sep='\\t')"
   ]
  },
  {
   "cell_type": "code",
   "execution_count": 69,
   "id": "32889d7f-d0a0-4457-94c1-a064aedd5e44",
   "metadata": {},
   "outputs": [],
   "source": [
    "for_subs = []\n",
    "rev_subs = []\n",
    "for_indels = []\n",
    "rev_indels = []\n",
    "for m1,m2 in matches:\n",
    "    for_subs.extend(m1.fuzzy_changes[0])\n",
    "    rev_subs.extend(m2.fuzzy_changes[0])\n",
    "    for_indels.extend(m1.fuzzy_changes[1])\n",
    "    for_indels.extend(m1.fuzzy_changes[2])\n",
    "    rev_indels.extend(m2.fuzzy_changes[1])\n",
    "    rev_indels.extend(m2.fuzzy_changes[2])"
   ]
  },
  {
   "cell_type": "code",
   "execution_count": 79,
   "id": "41ca24fb-9f29-41dc-8e3a-fc031893513f",
   "metadata": {},
   "outputs": [
    {
     "name": "stdout",
     "output_type": "stream",
     "text": [
      "site 118:\t705\n",
      "site 146:\t417\n",
      "site 111:\t362\n",
      "site 87:\t324\n",
      "site 2:\t266\n",
      "site 156:\t232\n",
      "site 136:\t215\n",
      "site 45:\t206\n",
      "site 121:\t204\n",
      "site 106:\t199\n"
     ]
    },
    {
     "data": {
      "image/png": "[encoded data removed]",
      "text/plain": [
       "<Figure size 432x288 with 1 Axes>"
      ]
     },
     "metadata": {
      "needs_background": "light"
     },
     "output_type": "display_data"
    }
   ],
   "source": [
    "from collections import Counter\n",
    "sns.histplot(for_subs, bins=np.arange(-0.5, 190.5))\n",
    "for idx,counts in Counter(for_subs).most_common(10):\n",
    "    print(f'site {idx}:\\t{counts}')"
   ]
  },
  {
   "cell_type": "code",
   "execution_count": 78,
   "id": "deb67616-824e-4bcb-8ae2-d68706bc91d2",
   "metadata": {},
   "outputs": [
    {
     "name": "stdout",
     "output_type": "stream",
     "text": [
      "site 211:\t3282\n",
      "site 190:\t3074\n",
      "site 219:\t2388\n",
      "site 220:\t2350\n",
      "site 184:\t1718\n",
      "site 210:\t1714\n",
      "site 189:\t1656\n",
      "site 193:\t1152\n",
      "site 197:\t1024\n",
      "site 156:\t1020\n"
     ]
    },
    {
     "data": {
      "image/png": "[encoded data removed]",
      "text/plain": [
       "<Figure size 432x288 with 1 Axes>"
      ]
     },
     "metadata": {
      "needs_background": "light"
     },
     "output_type": "display_data"
    }
   ],
   "source": [
    "sns.histplot(rev_subs, bins=np.arange(-0.5, 240.5))\n",
    "for idx,counts in Counter(rev_subs).most_common(10):\n",
    "    print(f'site {idx}:\\t{counts}')"
   ]
  },
  {
   "cell_type": "code",
   "execution_count": 72,
   "id": "c2f6f4ba-8767-45ee-84aa-80961549d1c8",
   "metadata": {},
   "outputs": [
    {
     "name": "stdout",
     "output_type": "stream",
     "text": [
      "site 1:\t451\n",
      "site 41:\t29\n",
      "site 2:\t28\n",
      "site 40:\t4\n",
      "site 37:\t2\n",
      "site 0:\t2\n",
      "site 8:\t2\n",
      "site 9:\t1\n",
      "site 3:\t1\n",
      "site 38:\t1\n"
     ]
    }
   ],
   "source": [
    "for idx,counts in Counter(for_indels).most_common(10):\n",
    "    print(f'site {idx}:\\t{counts}')"
   ]
  },
  {
   "cell_type": "code",
   "execution_count": 73,
   "id": "900a7635-36a4-47d7-bb7b-62f85f08e157",
   "metadata": {},
   "outputs": [
    {
     "name": "stdout",
     "output_type": "stream",
     "text": [
      "site 0:\t830\n",
      "site 1:\t203\n",
      "site 6:\t133\n",
      "site 2:\t37\n",
      "site 7:\t10\n",
      "site 12:\t1\n",
      "site 13:\t1\n",
      "site 10:\t1\n",
      "site 8:\t1\n",
      "site 16:\t1\n"
     ]
    }
   ],
   "source": [
    "for idx,counts in Counter(rev_indels).most_common(10):\n",
    "    print(f'site {idx}:\\t{counts}')"
   ]
  },
  {
   "cell_type": "code",
   "execution_count": 74,
   "id": "897be834-588e-4035-b65c-06936884b2dd",
   "metadata": {},
   "outputs": [
    {
     "data": {
      "text/plain": [
       "'GATAAAACCACAACTCTGTATGGCTGATGGCCAACTCCGTTTGTAGGCCTGAAAGAGTATGACTGTAGGGGGAAGTAACAGTTGAAGCCCTCGACGCCATTGCAGGGCTTGTTACCGGCCTGATATATCTCCGTGGAGATGTCCCTTTCGAACGGCTTCAAATTTGATTTCCTGAAAAGACGGTACAGGTAGTGATAATTTCCTCCCACCTTTGAGTCTAAGTT'"
      ]
     },
     "execution_count": 74,
     "metadata": {},
     "output_type": "execute_result"
    }
   ],
   "source": [
    "m2.group()"
   ]
  },
  {
   "cell_type": "code",
   "execution_count": 75,
   "id": "621ec034-fa50-4e58-982b-8718f9ed4ccb",
   "metadata": {},
   "outputs": [
    {
     "data": {
      "text/plain": [
       "'AACTTAGACTCAAAGGTGGGAGGAAATTATCACTACCTGTACCGTCTTTTCAGGAAATCAAATTTGAAGCCGTTCGAAAGGGACATCTCCACGGAGATATATCAGGCCGGTAACAAGCCCTGCAATGGCGTCGAGGGCTTCAACTGTTACTTCCCCCTACAGTCATACTCTTTCAGGCCTACAAACGGAGTTGGCCATCAGCCATACAGAGTTGTGGTTTTATC'"
      ]
     },
     "execution_count": 75,
     "metadata": {},
     "output_type": "execute_result"
    }
   ],
   "source": [
    "def rc(x):\n",
    "    return str(Seq(x).reverse_complement())\n",
    "\n",
    "rc(m2.group())"
   ]
  },
  {
   "cell_type": "code",
   "execution_count": 76,
   "id": "7d3fc3f5-9028-48b5-b6c3-ab2f3ee24d84",
   "metadata": {},
   "outputs": [
    {
     "data": {
      "text/plain": [
       "([193], [], [])"
      ]
     },
     "execution_count": 76,
     "metadata": {},
     "output_type": "execute_result"
    }
   ],
   "source": [
    "m2.fuzzy_changes"
   ]
  },
  {
   "cell_type": "code",
   "execution_count": 77,
   "id": "c61db1fb-0d49-40f7-b178-d9076eff8767",
   "metadata": {},
   "outputs": [
    {
     "data": {
      "text/plain": [
       "224"
      ]
     },
     "execution_count": 77,
     "metadata": {},
     "output_type": "execute_result"
    }
   ],
   "source": [
    "len(m2.group())"
   ]
  },
  {
   "cell_type": "code",
   "execution_count": null,
   "id": "c1e62c23-de9a-437b-a64a-045363e57f53",
   "metadata": {},
   "outputs": [],
   "source": []
  }
 ],
 "metadata": {
  "kernelspec": {
   "display_name": "Python 3 (ipykernel)",
   "language": "python",
   "name": "python3"
  },
  "language_info": {
   "codemirror_mode": {
    "name": "ipython",
    "version": 3
   },
   "file_extension": ".py",
   "mimetype": "text/x-python",
   "name": "python",
   "nbconvert_exporter": "python",
   "pygments_lexer": "ipython3",
   "version": "3.8.12"
  }
 },
 "nbformat": 4,
 "nbformat_minor": 5
}
