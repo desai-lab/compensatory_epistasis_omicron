{
 "cells": [
  {
   "cell_type": "code",
   "execution_count": 7,
   "metadata": {},
   "outputs": [],
   "source": [
    "import numpy as np\n",
    "import pandas as pd\n",
    "import matplotlib.pyplot as plt\n",
    "import matplotlib as mpl\n",
    "import seaborn as sns\n",
    "from collections import defaultdict\n",
    "from scipy.sparse import dok_matrix, csr_matrix\n",
    "from sklearn.preprocessing import normalize\n",
    "import networkx as nx\n",
    "import itertools\n",
    "from itertools import islice\n",
    "from tqdm.notebook import tqdm\n",
    "from matplotlib.patches import Patch\n",
    "import scipy as sp\n",
    "import math\n",
    "import csv\n",
    "from collections import OrderedDict\n",
    "import sys\n",
    "import matplotlib.cm as cm\n",
    "import matplotlib.colors as colors\n",
    "\n",
    "L = 15\n",
    "df = pd.read_csv(\"../../Titeseq/results/Kds/cleaned_Kds_RBD_ACE2.tsv\",\n",
    "                 dtype={\"geno\":\"str\"}, sep=\"\\t\")\n",
    "df[\"geno_int\"] = df.geno.apply(lambda x: int(x, 2))\n",
    "\n",
    "df = df.set_index(\"geno_int\").reindex(range(0, 2**L)).reset_index()\n",
    "sequences_int = range(0,2**L)\n",
    "for ii in range(L):\n",
    "    df[f\"mutation_{ii+1}\"] = df.geno.str[ii] == '1'\n",
    "\n",
    "\n",
    "\n",
    "mutation_names = ['G339D','S371L','S373P','S375F',\n",
    "                  'K417N',\n",
    "                  'N440K',\n",
    "                  'G446S',\n",
    "                  'S477N','T478K',\n",
    "                  'E484A',\n",
    "                  'Q493R',\n",
    "                  'G496S',\n",
    "                  'Q498R','N501Y','Y505H'\n",
    "                 ]\n",
    "\n",
    "mdct = {m: i for i, m in enumerate(mutation_names)}\n",
    "\n",
    "colors = [\"#66c2bd\", \"#1b9d9b\", \"#fc7864\", \"#d94602\", \"#8DA0CB\",\"#7570B3\",\"#E78AC3\",\"#E7298A\",\"#A6D854\",\"#66A61E\",\"#FFD92F\",\"#E6AB02\",\"#E5C494\",\"#A6761D\",\"#B3B3B3\",\"#666666\"]\n",
    "fitness = (df[f\"log10Kd\"]).values.astype('float32')"
   ]
  },
  {
   "cell_type": "code",
   "execution_count": null,
   "metadata": {},
   "outputs": [],
   "source": [
    "import ete3 \n",
    "tr = ete3.Tree(\"../../Additional_data/GISAID-hCoV-19-phylogeny-2022-05-04/global.tree\", format=1, quoted_node_names=True)\n"
   ]
  },
  {
   "cell_type": "code",
   "execution_count": 3,
   "metadata": {},
   "outputs": [
    {
     "data": {
      "application/vnd.jupyter.widget-view+json": {
       "model_id": "62fd344b2b3946dbaa8049b627ab15d0",
       "version_major": 2,
       "version_minor": 0
      },
      "text/plain": [
       "0it [00:00, ?it/s]"
      ]
     },
     "metadata": {},
     "output_type": "display_data"
    }
   ],
   "source": [
    "## fig 1\n",
    "df2 = pd.read_csv(\"./Proportion_branch_mutation_happens.csv\")\n",
    "dft = df.set_index(\"geno\")\n",
    "dfpl = pd.DataFrame()\n",
    "kds = df.set_index(\"geno\").log10Kd.to_dict()\n",
    "errkds = df.set_index(\"geno\").err_log10Kd.to_dict()\n",
    "nbmuts, deltas, muts, keeps, deltas_err, sources, kdbackground = [], [], [], [], [], [], []\n",
    "for im, m in tqdm(enumerate(mutation_names)):\n",
    "    muts += [m]*(len(df))\n",
    "    for s in df.geno:\n",
    "        deltas += [kds[s] - kds[s[:im] + '1' + s[im+1:]]]\n",
    "        deltas_err += [np.sqrt(errkds[s]**2 + errkds[s[:im] + '1' + s[im+1:]]**2)]\n",
    "        kdbackground += [kds[s]]\n",
    "        nbmuts += [s.count('1')]\n",
    "        keeps += [s[im] != '1']\n",
    "        sources += [s]\n",
    "\n",
    "dfpl = pd.DataFrame()\n",
    "dfpl[\"Mutation\"] = muts\n",
    "dfpl['deltaKd'] = deltas\n",
    "dfpl['deltaKd'] = -dfpl['deltaKd']\n",
    "dfpl[r'Number of mutations'] = nbmuts\n",
    "dfpl[r'err_ΔKd'] = deltas_err\n",
    "dfpl[r'source'] = sources\n",
    "dfpl[r'kdbackground'] = kdbackground\n",
    "dfpl[r'source_Kd'] = dfpl.source.map(kds)\n",
    "dfpl = dfpl[keeps]\n",
    "\n",
    "dfpl = dfpl.groupby([\"Mutation\"]).agg({'deltaKd': ['mean', 'std']}).reset_index()\n",
    "dfpl[\"freq_phylo\"] = dfpl.Mutation.map(df2.set_index(\"Mutation\").Proportion)\n",
    "dfpl.columns = ['_'.join(col).strip() for col in dfpl.columns.values]\n"
   ]
  },
  {
   "cell_type": "code",
   "execution_count": 4,
   "metadata": {},
   "outputs": [
    {
     "data": {
      "text/plain": [
       "<ErrorbarContainer object of 3 artists>"
      ]
     },
     "execution_count": 4,
     "metadata": {},
     "output_type": "execute_result"
    },
    {
     "data": {
      "image/png": "[encoded data removed]",
      "text/plain": [
       "<Figure size 432x288 with 1 Axes>"
      ]
     },
     "metadata": {
      "needs_background": "light"
     },
     "output_type": "display_data"
    }
   ],
   "source": [
    "\n",
    "plt.scatter(x=dfpl.freq_phylo_, y=dfpl.deltaKd_mean)\n",
    "plt.errorbar(x=dfpl.freq_phylo_, y=dfpl.deltaKd_mean, yerr=dfpl.deltaKd_std, ls='')\n"
   ]
  },
  {
   "cell_type": "code",
   "execution_count": 5,
   "metadata": {},
   "outputs": [],
   "source": [
    "dfpl.to_csv(\"gisaid_fig1_data.csv\")"
   ]
  },
  {
   "cell_type": "code",
   "execution_count": 6,
   "metadata": {},
   "outputs": [
    {
     "name": "stdout",
     "output_type": "stream",
     "text": [
      "N501Y\n"
     ]
    },
    {
     "data": {
      "application/vnd.jupyter.widget-view+json": {
       "model_id": "6135a01043324968b7dc1878d034b5a9",
       "version_major": 2,
       "version_minor": 0
      },
      "text/plain": [
       "0it [00:00, ?it/s]"
      ]
     },
     "metadata": {},
     "output_type": "display_data"
    }
   ],
   "source": [
    "## fig 2\n",
    "\n",
    "def f(x, ichoice, im):\n",
    "    a = \"\".join()\n",
    "\n",
    "df2 = pd.read_csv(\"./Proportion_happen_same_time_N501_normalized.csv\").rename({'Unnamed: 0': 'Mutation'}, axis=1)\n",
    "dft = df.set_index(\"geno\")\n",
    "dfpl = pd.DataFrame()\n",
    "kds = df.set_index(\"geno\").log10Kd.to_dict()\n",
    "errkds = df.set_index(\"geno\").err_log10Kd.to_dict()\n",
    "nbmuts, deltas, muts, keeps, deltas_err, sources, kdbackground = [], [], [], [], [], [], []\n",
    "ichoice = 13\n",
    "print(mutation_names[ichoice])\n",
    "for im, m in tqdm(enumerate(mutation_names)):\n",
    "    muts += [m]*(len(df))\n",
    "    for s in df.geno:\n",
    "        deltas += [-kds[s] + kds[s[:im] + '1' + s[im+1:]]\n",
    "                   + kds[s[:ichoice] + '1' + s[ichoice+1:]] \n",
    "                   - kds[\"\".join([a if ii!=ichoice and ii!= im else '1' for ii, a in enumerate(s)])]]\n",
    "        deltas_err += [np.sqrt(errkds[s]**2 + errkds[s[:im] + '1' + s[im+1:]]**2)]\n",
    "        kdbackground += [kds[s]]\n",
    "        nbmuts += [s.count('1')]\n",
    "        keeps += [s[im] != '1' and s[ichoice] != '1']\n",
    "        sources += [s]\n",
    "\n",
    "dfpl = pd.DataFrame()\n",
    "dfpl[\"Mutation\"] = muts\n",
    "dfpl['deltaKdY-deltaKdN'] = deltas\n",
    "dfpl['deltaKdY-deltaKdN'] = -dfpl['deltaKdY-deltaKdN']\n",
    "dfpl[r'Number of mutations'] = nbmuts\n",
    "dfpl[r'err_ΔKd'] = deltas_err\n",
    "dfpl[r'source'] = sources\n",
    "dfpl[r'kdbackground'] = kdbackground\n",
    "dfpl[r'source_Kd'] = dfpl.source.map(kds)\n",
    "dfpl = dfpl[keeps]\n",
    "\n",
    "dfpl = dfpl.groupby([\"Mutation\"]).agg({'deltaKdY-deltaKdN': ['mean', 'std']}).reset_index()\n",
    "dfpl[\"freq_phylo\"] = dfpl.Mutation.map(df2.set_index(\"Mutation\")['N501Y'])\n",
    "dfpl.columns = ['_'.join(col).strip() for col in dfpl.columns.values]\n",
    "dfpl = dfpl[dfpl.Mutation_ != 'N501Y'].copy()"
   ]
  },
  {
   "cell_type": "code",
   "execution_count": 7,
   "metadata": {},
   "outputs": [
    {
     "data": {
      "text/plain": [
       "<matplotlib.lines.Line2D at 0x7f3231a0f130>"
      ]
     },
     "execution_count": 7,
     "metadata": {},
     "output_type": "execute_result"
    },
    {
     "data": {
      "image/png": "[encoded data removed]",
      "text/plain": [
       "<Figure size 432x288 with 1 Axes>"
      ]
     },
     "metadata": {
      "needs_background": "light"
     },
     "output_type": "display_data"
    }
   ],
   "source": [
    "\n",
    "plt.scatter(x=dfpl.freq_phylo_, y=dfpl['deltaKdY-deltaKdN_mean'])\n",
    "plt.errorbar(x=dfpl.freq_phylo_, y=dfpl['deltaKdY-deltaKdN_mean'], yerr=dfpl['deltaKdY-deltaKdN_std'], ls='')\n",
    "plt.xlabel(\"Normalized Frequency of mutations happening in the same branch as N501Y\")\n",
    "plt.ylabel(\"mut. effect on 501Y background - effect on N501 background\")\n",
    "plt.axhline(ls='dashed', color='k')"
   ]
  },
  {
   "cell_type": "code",
   "execution_count": 8,
   "metadata": {},
   "outputs": [],
   "source": [
    "dfpl.to_csv(\"gisaid_fig2_data.csv\")"
   ]
  },
  {
   "cell_type": "code",
   "execution_count": null,
   "metadata": {},
   "outputs": [],
   "source": []
  }
 ],
 "metadata": {
  "kernelspec": {
   "display_name": "Python [conda env:omicron]",
   "language": "python",
   "name": "conda-env-omicron-py"
  },
  "language_info": {
   "codemirror_mode": {
    "name": "ipython",
    "version": 3
   },
   "file_extension": ".py",
   "mimetype": "text/x-python",
   "name": "python",
   "nbconvert_exporter": "python",
   "pygments_lexer": "ipython3",
   "version": "3.8.13"
  }
 },
 "nbformat": 4,
 "nbformat_minor": 4
}
