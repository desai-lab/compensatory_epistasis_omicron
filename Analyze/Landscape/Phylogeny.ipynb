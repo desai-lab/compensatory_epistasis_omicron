{
 "cells": [
  {
   "cell_type": "markdown",
   "metadata": {},
   "source": [
    "## Phylogeny analysis\n",
    "\n",
    "This notebook needs two dataset to run:\n",
    "- The GISAID database (https://www.gisaid.org/) require scientific credentials and a login. The dataset used is in EpiCov → Download → spikeprot????. Save this one in Additional_data/whole_genome_sequencing/spikeprot????.fasta\n",
    "- The COG global tree can be downloaded from [here](https://microreact.org/project/suVnc6aexZY5a7dWM6tcfs-global-sars-cov-2-2019-12-242022-02-11) (javascript app, really slow)\n",
    "\n"
   ]
  },
  {
   "cell_type": "code",
   "execution_count": 1,
   "metadata": {},
   "outputs": [],
   "source": [
    "import pandas as pd\n",
    "import ete3\n",
    "import json\n",
    "from Bio import SeqIO\n",
    "from tqdm.notebook import tqdm\n",
    "import pickle\n",
    "mutation_names = ['G339D','S371L','S373P','S375F','K417N','N440K','G446S','S477N',\n",
    "                  'T478K','E484A','Q493R','G496S','Q498R','N501Y','Y505H']\n"
   ]
  },
  {
   "cell_type": "code",
   "execution_count": 2,
   "metadata": {},
   "outputs": [
    {
     "data": {
      "application/vnd.jupyter.widget-view+json": {
       "model_id": "27dfc6150b6c4907903f75440e552f08",
       "version_major": 2,
       "version_minor": 0
      },
      "text/plain": [
       "HBox(children=(HTML(value=''), FloatProgress(value=0.0, max=11035700.0), HTML(value='')))"
      ]
     },
     "metadata": {},
     "output_type": "display_data"
    },
    {
     "name": "stdout",
     "output_type": "stream",
     "text": [
      "\n"
     ]
    }
   ],
   "source": [
    "import regex as re\n",
    "\n",
    "\n",
    "#load the sequences\n",
    "\n",
    "rbds = {}\n",
    "for record in SeqIO.parse(\"./../../Additional_data/spikeprot0613/spikeprot0613.fasta\", \"fasta\"):\n",
    "    rbds[record.id] = str(record.seq)[330:531]\n",
    "\n",
    "    \n",
    "rbds_newkey = {}\n",
    "for a in rbds:\n",
    "    try:\n",
    "        nm = a.split(\"|\")[3]\n",
    "    except:\n",
    "        nm = ''\n",
    "    if nm != '':\n",
    "        rbds_newkey[nm] = rbds[a]\n",
    "rbds = rbds_newkey.copy()\n",
    "    \n",
    "def omicron_mutations(s):\n",
    "    bi = ''\n",
    "    our_sequence = r\"^NITNLCPF(G|D)EVFNATRFASVYAWNRKRISNCVADYSVLYN(S|L)A(S|P)F(S|F)TFKCYGVSPTKLNDLCFTNVYADSFVIRGDEVRQIAPGQTG(K|N)IADYNYKLPDDFTGCVIAWNSN(N|K)LDSKV(G|S)GNYNYLYRLFRKSNLKPFERDISTEIYQAG(S|N)(T|K)PCNGV(E|A)GFNCYFPL(Q|R)SY(G|S)F(Q|R)PT(N|Y)GVG(Y|H)QPYRVVVLSFELLHAPATVCGPKKST$\"\n",
    "    if not re.match(our_sequence, s):\n",
    "        return \"X\"*15\n",
    "    \n",
    "    mutation_names = ['G339D','S371L','S373P','S375F','K417N','N440K','G446S','S477N','T478K','E484A','Q493R','G496S','Q498R','N501Y','Y505H']\n",
    "    for a in mutation_names:\n",
    "        w, o, pos = a[0], a[-1], int(a[1:-1])\n",
    "        if s[pos - 331] == w:\n",
    "            bi += '0'\n",
    "        elif s[pos - 331] == o:\n",
    "            bi += '1'\n",
    "        else:\n",
    "            bi += 'X'\n",
    "    return bi\n",
    "\n",
    "muts = {}\n",
    "for a in tqdm(rbds):\n",
    "    if len(rbds[a]) == 201:\n",
    "        bi = omicron_mutations(rbds[a])\n",
    "        if 'X' not in bi:\n",
    "            muts[a] = bi\n",
    "        \n",
    "import pickle\n",
    "with open(\"gisaid_data_omicron_mutations.pkl\", \"wb\") as fw:\n",
    "    pickle.dump(muts, fw)"
   ]
  },
  {
   "cell_type": "code",
   "execution_count": 6,
   "metadata": {},
   "outputs": [],
   "source": [
    "with open(\"gisaid_data_omicron_mutations.pkl\", \"rb\") as f:\n",
    "    muts = pickle.load(f)"
   ]
  },
  {
   "cell_type": "markdown",
   "metadata": {},
   "source": [
    "## tree recreation"
   ]
  },
  {
   "cell_type": "code",
   "execution_count": 61,
   "metadata": {},
   "outputs": [],
   "source": [
    "import ete3\n",
    "\n",
    "t = ete3.Tree(\"./../../Additional_data/GISAID-hCoV-19-phylogeny-2022-05-04/global.tree\",\n",
    "             quoted_node_names=True, format=1)"
   ]
  },
  {
   "cell_type": "code",
   "execution_count": 104,
   "metadata": {},
   "outputs": [],
   "source": [
    "shared_key = set([a.name for a in t.traverse()]) & set(list(rbds.keys()))\n",
    "shared_key = [a for a in shared_key if a != '']\n",
    "t.prune(shared_key)"
   ]
  },
  {
   "cell_type": "code",
   "execution_count": 106,
   "metadata": {},
   "outputs": [],
   "source": [
    "from collections import Counter\n",
    "\n",
    "def consensus_sequence(a):\n",
    "    mdist = min([c.dist for c in a.children])\n",
    "    seqs = [c.sequence for c in a.children if c.dist == mdist]\n",
    "    result = []\n",
    "    for ii in range(len(seqs[0])):\n",
    "        most_common = Counter([s[ii] for s in seqs if s[ii] != 'X']).most_common(1)\n",
    "        if len(most_common) == 0:\n",
    "            result += ['X']\n",
    "        else:\n",
    "            result += [most_common[0][0]]\n",
    "        \n",
    "    return \"\".join(result)"
   ]
  },
  {
   "cell_type": "code",
   "execution_count": 107,
   "metadata": {},
   "outputs": [
    {
     "data": {
      "application/vnd.jupyter.widget-view+json": {
       "model_id": "985b177a933c43a09dc3fe76c722084d",
       "version_major": 2,
       "version_minor": 0
      },
      "text/plain": [
       "HBox(children=(HTML(value=''), FloatProgress(value=1.0, bar_style='info', layout=Layout(width='20px'), max=1.0…"
      ]
     },
     "metadata": {},
     "output_type": "display_data"
    },
    {
     "name": "stdout",
     "output_type": "stream",
     "text": [
      "\n"
     ]
    },
    {
     "data": {
      "application/vnd.jupyter.widget-view+json": {
       "model_id": "79467dd216a74b34b8cee36caf23fa8f",
       "version_major": 2,
       "version_minor": 0
      },
      "text/plain": [
       "HBox(children=(HTML(value=''), FloatProgress(value=0.0, max=835940.0), HTML(value='')))"
      ]
     },
     "metadata": {},
     "output_type": "display_data"
    },
    {
     "name": "stdout",
     "output_type": "stream",
     "text": [
      "\n"
     ]
    }
   ],
   "source": [
    "for a in tqdm(t.traverse()):\n",
    "    a.sequence = rbds[a.name] if a.name in rbds else ''\n",
    "\n",
    "for a in tqdm(list(t.traverse())[::-1]):\n",
    "    if a.sequence == '':\n",
    "        a.sequence = consensus_sequence(a)"
   ]
  },
  {
   "cell_type": "code",
   "execution_count": 110,
   "metadata": {},
   "outputs": [],
   "source": [
    "## transform the sequence in binary form\n",
    "\n",
    "def omicron_mutations(s):\n",
    "    bi = ''\n",
    "    our_sequence = r\"^(NITNLCPF(G|D)EVFNATRFASVYAWNRKRISNCVADYSVLYN(S|L)A(S|P)F(S|F)TFKCYGVSPTKLNDLCFTNVYADSFVIRGDEVRQIAPGQTG(K|N)IADYNYKLPDDFTGCVIAWNSN(N|K)LDSKV(G|S)GNYNYLYRLFRKSNLKPFERDISTEIYQAG(S|N)(T|K)PCNGV(E|A)GFNCYFPL(Q|R)SY(G|S)F(Q|R)PT(N|Y)GVG(Y|H)QPYRVVVLSFELLHAPATVCGPKKST){s<=10}$\"\n",
    "    if not re.match(our_sequence, s):\n",
    "        return \"X\"*15\n",
    "    \n",
    "    mutation_names = ['G339D','S371L','S373P','S375F','K417N','N440K','G446S','S477N','T478K','E484A','Q493R','G496S','Q498R','N501Y','Y505H']\n",
    "    for a in mutation_names:\n",
    "        w, o, pos = a[0], a[-1], int(a[1:-1])\n",
    "        if s[pos - 331] == w:\n",
    "            bi += '0'\n",
    "        elif s[pos - 331] == o:\n",
    "            bi += '1'\n",
    "        else:\n",
    "            bi += 'X'\n",
    "    return bi\n",
    "\n",
    "for a in t.traverse():\n",
    "    a.binary = omicron_mutations(a.sequence)"
   ]
  },
  {
   "cell_type": "code",
   "execution_count": 175,
   "metadata": {},
   "outputs": [],
   "source": [
    "mutations_count = defaultdict(int)\n",
    "for n in t.traverse():\n",
    "    muts = []\n",
    "    for c in n.children:\n",
    "        muts += [a for a, (x, y) in enumerate(zip(n.binary, c.binary)) if x != y]\n",
    "    muts = set(muts)\n",
    "    for m in muts:\n",
    "        mutations_count[m] += 1"
   ]
  },
  {
   "cell_type": "code",
   "execution_count": 176,
   "metadata": {},
   "outputs": [],
   "source": [
    "df = pd.Series(mutations_count, name=\"Count\").to_frame().rename_axis(\"Mutation_idx\").reset_index()\n",
    "df[\"Mutation\"] = df.Mutation_idx.apply(lambda ii: mutation_names[ii])\n",
    "df = df.sort_values(by=\"Mutation_idx\")\n",
    "df[\"Proportion\"] = df[\"Count\"]/df.Count.sum()\n",
    "df.to_csv(\"Proportion_branch_mutation_happens.csv\")"
   ]
  },
  {
   "cell_type": "code",
   "execution_count": 177,
   "metadata": {},
   "outputs": [],
   "source": [
    "import itertools\n",
    "mutations_count = defaultdict(int)\n",
    "for n in t.traverse():\n",
    "    muts = []\n",
    "    for c in n.children:\n",
    "        muts += [[a for a, (x, y) in enumerate(zip(n.binary, c.binary)) if x != y]]\n",
    "    for group_mut in muts:\n",
    "        for m1, m2 in itertools.permutations(group_mut, r=2):\n",
    "            mutations_count[m1, m2] += 1"
   ]
  },
  {
   "cell_type": "code",
   "execution_count": 178,
   "metadata": {},
   "outputs": [],
   "source": [
    "df2 = pd.Series(mutations_count, name=\"Count\").to_frame().rename_axis([\"Mutation1_idx\", \"Mutation2_idx\"]).reset_index()\n",
    "df2[\"Mutation1\"] = df2.Mutation1_idx.apply(lambda ii: mutation_names[ii])\n",
    "df2[\"Mutation2\"] = df2.Mutation2_idx.apply(lambda ii: mutation_names[ii])\n",
    "df2 = df2[df2.Mutation1 == \"N501Y\"]\n",
    "df2 = df2.sort_values(by=\"Mutation2_idx\")\n",
    "#df[\"Proportion\"] = df[\"Count\"]/df.Count.sum()\n",
    "#df.to_csv(\"Proportion_branch_mutation_happens.csv\")"
   ]
  },
  {
   "cell_type": "code",
   "execution_count": 173,
   "metadata": {},
   "outputs": [
    {
     "data": {
      "text/plain": [
       "<AxesSubplot:xlabel='Mutation2', ylabel='Count'>"
      ]
     },
     "execution_count": 174,
     "metadata": {},
     "output_type": "execute_result"
    },
    {
     "data": {
      "image/png": "[encoded data removed]",
      "text/plain": [
       "<Figure size 432x288 with 1 Axes>"
      ]
     },
     "metadata": {
      "needs_background": "light"
     },
     "output_type": "display_data"
    }
   ],
   "source": []
  },
  {
   "cell_type": "code",
   "execution_count": null,
   "metadata": {},
   "outputs": [],
   "source": [
    "dfpl.N501Y.to_csv(\"Proportion_happen_same_time_N501_normalized.csv\")"
   ]
  },
  {
   "cell_type": "code",
   "execution_count": null,
   "metadata": {},
   "outputs": [],
   "source": []
  }
 ],
 "metadata": {
  "kernelspec": {
   "display_name": "Python [conda env:.conda-omicron]",
   "language": "python",
   "name": "conda-env-.conda-omicron-py"
  },
  "language_info": {
   "codemirror_mode": {
    "name": "ipython",
    "version": 3
   },
   "file_extension": ".py",
   "mimetype": "text/x-python",
   "name": "python",
   "nbconvert_exporter": "python",
   "pygments_lexer": "ipython3",
   "version": "3.8.13"
  }
 },
 "nbformat": 4,
 "nbformat_minor": 4
}
