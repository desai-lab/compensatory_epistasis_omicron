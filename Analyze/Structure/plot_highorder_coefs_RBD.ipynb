{
 "cells": [
  {
   "cell_type": "code",
   "execution_count": 1,
   "metadata": {},
   "outputs": [],
   "source": [
    "import numpy as np\n",
    "import matplotlib.pyplot as plt\n",
    "import csv\n",
    "import sys\n",
    "import seaborn as sns\n",
    "from scipy.special import comb\n",
    "from sklearn.preprocessing import PolynomialFeatures\n",
    "from matplotlib.colors import LogNorm\n",
    "import matplotlib as mpl\n",
    "import pandas as pd\n",
    "import itertools as it\n",
    "\n",
    "def powerset(iterable):\n",
    "    \"powerset([1,2,3]) --> () (1,) (2,) (3,) (1,2) (1,3) (2,3) (1,2,3)\"\n",
    "    s = list(iterable)\n",
    "    return it.chain.from_iterable(it.combinations(s, r) for r in range(len(s)+1))\n",
    "\n",
    "mpl.rc_file_defaults()\n",
    "plt.rcParams.update({'font.size': 7})\n",
    "plt.rcParams['font.sans-serif'] = \"Arial\"\n",
    "plt.rcParams['font.family'] = \"sans-serif\"\n",
    "plt.rcParams['axes.linewidth'] = 0.5\n",
    "plt.rcParams[\"xtick.major.size\"] = 2\n",
    "plt.rcParams[\"ytick.major.size\"] = 2"
   ]
  },
  {
   "cell_type": "code",
   "execution_count": 2,
   "metadata": {},
   "outputs": [
    {
     "name": "stdout",
     "output_type": "stream",
     "text": [
      "[  15  105  455 1365] 1940\n",
      "[1, 16, 121, 576, 1941]\n"
     ]
    }
   ],
   "source": [
    "# set some things\n",
    "num_mutations_H1 = 15\n",
    "order_H1 = 4\n",
    "num_term_list_H1 = np.array([int(comb(num_mutations_H1,i)) for i in range(1,order_H1+1)])\n",
    "total_params_H1 = sum(num_term_list_H1)\n",
    "order_start_indices_H1 = list(np.cumsum(num_term_list_H1)+1)\n",
    "order_start_indices_H1.insert(0,1)\n",
    "print(num_term_list_H1,total_params_H1)\n",
    "print(order_start_indices_H1)\n",
    "\n",
    "\n",
    "mut_names = ['339','371','373','375','417','440','446','477','478','484','493','496','498','501','505']\n",
    "\n",
    "H1_color = '#e8735c'\n",
    "\n",
    "ep_type = 'biochem'"
   ]
  },
  {
   "cell_type": "markdown",
   "metadata": {},
   "source": [
    "# H1"
   ]
  },
  {
   "cell_type": "code",
   "execution_count": 3,
   "metadata": {},
   "outputs": [
    {
     "name": "stdout",
     "output_type": "stream",
     "text": [
      "['Term', 'Coefficient', 'Standard Error', 'p-value', '95% CI lower', '95% CI upper']\n",
      "1941\n"
     ]
    }
   ],
   "source": [
    "# read model coefficients\n",
    "\n",
    "\n",
    "coefs_H1 = np.zeros(total_params_H1+1)\n",
    "names_H1 = []\n",
    "sig_H1 = np.full((total_params_H1+1),0)\n",
    "stderr_H1 = np.zeros(total_params_H1+1)\n",
    "cis_H1 = np.zeros((total_params_H1+1,2))\n",
    "\n",
    "with open('ACE2_4order_biochem.txt','r') as readfile:\n",
    "    coef_reader = csv.reader(readfile,delimiter='\\t')\n",
    "    num_params = int(next(coef_reader)[-1])\n",
    "    r2_train = float(next(coef_reader)[-1])\n",
    "    header = next(coef_reader)\n",
    "    print(header)\n",
    "    for i in range(total_params_H1+1):\n",
    "        row = next(coef_reader)\n",
    "        names_H1.append(row[0])\n",
    "        coefs_H1[i] = float(row[1])  \n",
    "        if i >= 1:\n",
    "            stderr_H1[i] = float(row[2])\n",
    "            cis_H1[i,0] = float(row[4])\n",
    "            cis_H1[i,1] = float(row[5])\n",
    "            if float(row[4])*float(row[5]) > 0:\n",
    "                sig_H1[i] = 1\n",
    "    readfile.close()\n",
    "            \n",
    "print(len(coefs_H1))      "
   ]
  },
  {
   "cell_type": "markdown",
   "metadata": {},
   "source": [
    "## Figure 3A"
   ]
  },
  {
   "cell_type": "code",
   "execution_count": 5,
   "metadata": {},
   "outputs": [
    {
     "name": "stdout",
     "output_type": "stream",
     "text": [
      "0.0 3.7382978325507445\n"
     ]
    },
    {
     "data": {
      "image/png": "[encoded data removed]",
      "text/plain": [
       "<Figure size 300x250 with 2 Axes>"
      ]
     },
     "metadata": {},
     "output_type": "display_data"
    }
   ],
   "source": [
    "\n",
    "# initialize matrices to store values\n",
    "\n",
    "# total (lower diagonal)\n",
    "total_epistasis = np.zeros((15,15),dtype=float)\n",
    "for i in range(15):  \n",
    "    total_epistasis[i,i] = np.nan\n",
    "\n",
    "\n",
    "# add up all coefficients\n",
    "for i in range(1,len(coefs_H1)):\n",
    "\n",
    "    muts_involved = [int(x)-1 for x in names_H1[i].split(',')]\n",
    "    \n",
    "    # only consider 3rd order and higher\n",
    "    if len(muts_involved) >= 3:\n",
    "        # only consider significant terms\n",
    "        if sig_H1[i]:\n",
    "            for j in range(len(muts_involved)):\n",
    "                for k in range(j+1,len(muts_involved)):\n",
    "                    total_epistasis[muts_involved[k],muts_involved[j]] += np.abs(coefs_H1[i])\n",
    "                    total_epistasis[muts_involved[j],muts_involved[k]] += np.abs(coefs_H1[i])\n",
    "\n",
    "\n",
    "print(np.nanmin(total_epistasis),np.nanmax(total_epistasis))\n",
    "min_val = np.nanmin(total_epistasis)\n",
    "\n",
    "    \n",
    "sns.set_style({\"axes.facecolor\": \"k\"})       \n",
    "plt.figure(figsize=(3,2.5))\n",
    "sns.heatmap(total_epistasis,cmap='inferno',cbar_kws={\"pad\": 0.05}) #,vmin=0.0,vmax=np.nanmax(total_epistasis)) \n",
    "plt.xticks(np.arange(0.5,num_mutations_H1+0.5,1),mut_names,rotation='90')\n",
    "plt.yticks(np.arange(0.5,num_mutations_H1+0.5,1),mut_names,rotation='0')\n",
    "plt.tick_params(length=0,pad=1)\n",
    "\n",
    "\n",
    "plt.tight_layout()\n",
    "plt.savefig('images/RBD_ACE2_biochem_3andup_total.pdf')\n",
    "plt.show()\n"
   ]
  },
  {
   "cell_type": "markdown",
   "metadata": {},
   "source": [
    "## Figure 3F"
   ]
  },
  {
   "cell_type": "code",
   "execution_count": 43,
   "metadata": {},
   "outputs": [
    {
     "data": {
      "image/png": "[encoded data removed]",
      "text/plain": [
       "<Figure size 520x85 with 1 Axes>"
      ]
     },
     "metadata": {},
     "output_type": "display_data"
    }
   ],
   "source": [
    "# \n",
    "\n",
    "sns.set_style({\"axes.facecolor\": \"w\"})       \n",
    "\n",
    "colordict = {'red':'#e6194B', 'green':'#3cb44b', 'yellow':'#ffe119', 'blue':'#4363d8', \n",
    "             'orange':'#f58231', 'cyan':'#42d4f4', 'magenta':'#f032e6', 'pink':'#fabed4', \n",
    "             'teal':'#469990', 'lavender':'#dcbeff', 'brown':'#9A6324', 'beige':'#fffac8', \n",
    "             'maroon':'#800000', 'mint':'#aaffc3', 'navy':'#000075', 'black':'#000000','white':'#ffffff',\n",
    "             'olive':'#808000','lime':'#bfef45','purple':'#911eb4',\n",
    "            'darkbeige':'#ccc8a0','lightyellow':'#ffea5e','lightnavy':'#333399','lightpurple':'#a74bc3',\n",
    "            'lightmagenta':'#f35beb','darkpink':'#f299b9','grey':'lightgrey'}\n",
    "\n",
    "\n",
    "muts_to_consider = [1,4,6,9,10]\n",
    "\n",
    "coefs = {}\n",
    "\n",
    "for s in powerset(muts_to_consider):\n",
    "    if len(s) >= 1: \n",
    "        name = ','.join([str(x) for x in s])\n",
    "        coefs[name] = [coefs_H1[names_H1.index(name)],stderr_H1[names_H1.index(name)]]\n",
    "\n",
    "palette_dict = {'4':'lime','6':'green','9':'lightpurple','4,6':'teal','4,9':'cyan','6,9':'blue','4,6,9':'lightnavy',\n",
    "                '1':'orange','10':'darkpink','1,4':'brown','1,10':'red','4,10':'maroon','1,4,10':'black'}\n",
    "\n",
    "\n",
    "order_1 = ['1','4','6','9','10',\n",
    "           '1,4','1,6','1,9','1,10','4,6','4,9','4,10','6,9','6,10','9,10']\n",
    "palette_1 = [colordict[palette_dict[x]] if x in palette_dict.keys() else colordict['grey'] for x in order_1]\n",
    "           \n",
    "order_2 = ['1,4,6','1,4,9','1,4,10','1,6,9','1,6,10','1,9,10','4,6,9','4,6,10','4,9,10','6,9,10',\n",
    "          '1,4,6,9','1,4,6,10','1,4,9,10','1,6,9,10','4,6,9,10',\n",
    "          '1,4,6,9,10']\n",
    "palette_2 = [colordict[palette_dict[x]] if x in palette_dict.keys() else colordict['grey'] for x in order_2]\n",
    "\n",
    "name_order_1 = []\n",
    "for i in range(len(order_1)):\n",
    "    muts = order_1[i].split(',')\n",
    "    names = [mut_names[int(x)-1] for x in muts]\n",
    "    #print(muts,names)\n",
    "    name_string = ','.join(names)\n",
    "    name_order_1.append(name_string)\n",
    "\n",
    "name_order_2 = []\n",
    "for i in range(len(order_2)):\n",
    "    muts = order_2[i].split(',')\n",
    "    names = [mut_names[int(x)-1] for x in muts]\n",
    "    #print(muts,names)\n",
    "    name_string = ','.join(names)\n",
    "    name_order_2.append(name_string)\n",
    "\n",
    "\n",
    "\n",
    "\n",
    "xvals = [0,1,2,3,4,6,7,8,9,10,11,12,13,14,15,16] #np.arange(len(order_1))\n",
    "xvals2 = np.array([0,1,2,3,4,5,6,7,8,9,11,12,13,14,15,17])+17 #np.arange(len(order_2))\n",
    "\n",
    "width = 0.25\n",
    "\n",
    "plt.rcParams.update({'font.size': 7})    \n",
    "\n",
    "plt.figure(figsize=(5.2,0.85))\n",
    "\n",
    "ax = plt.subplot(111)\n",
    "for i in range(len(order_1)):\n",
    "    plt.bar(xvals[i],coefs[order_1[i]][0],zorder=1,color=palette_1[i])\n",
    "    plt.plot([xvals[i],xvals[i]],\n",
    "             [coefs[order_1[i]][0]-coefs[order_1[i]][1],coefs[order_1[i]][0]+coefs[order_1[i]][1]],'k-',zorder=10,linewidth=0.5)\n",
    "\n",
    "plt.xticks([])\n",
    "plt.ylim([-1.1,1.1])\n",
    "\n",
    "for i in range(len(order_2)):\n",
    "    plt.bar(xvals2[i],coefs[order_2[i]][0],zorder=1,color=palette_2[i])\n",
    "    plt.plot([xvals2[i],xvals2[i]],\n",
    "             [coefs[order_2[i]][0]-coefs[order_2[i]][1],coefs[order_2[i]][0]+coefs[order_2[i]][1]],'k-',zorder=10,linewidth=0.5)\n",
    "\n",
    "plt.xticks([])\n",
    "plt.ylabel('Coefficient',labelpad=0)\n",
    "plt.xlim([-1,35])\n",
    "\n",
    "for i in [5,16,27,33]:\n",
    "    plt.plot([i,i],[-1.5,1.5],'k--',linewidth=0.5)\n",
    "\n",
    "plt.plot([-1,35],[0,0],'k-',linewidth=0.5)\n",
    "\n",
    "\n",
    "plt.tight_layout()\n",
    "plt.subplots_adjust(hspace=0.1)\n",
    "plt.savefig('images/coefs_all.pdf')\n",
    "plt.show()\n"
   ]
  },
  {
   "cell_type": "code",
   "execution_count": null,
   "metadata": {},
   "outputs": [],
   "source": []
  }
 ],
 "metadata": {
  "kernelspec": {
   "display_name": "Python 3",
   "language": "python",
   "name": "python3"
  },
  "language_info": {
   "codemirror_mode": {
    "name": "ipython",
    "version": 3
   },
   "file_extension": ".py",
   "mimetype": "text/x-python",
   "name": "python",
   "nbconvert_exporter": "python",
   "pygments_lexer": "ipython3",
   "version": "3.7.4"
  }
 },
 "nbformat": 4,
 "nbformat_minor": 4
}
