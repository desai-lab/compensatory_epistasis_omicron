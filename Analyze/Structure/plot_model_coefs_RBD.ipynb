{
 "cells": [
  {
   "cell_type": "code",
   "execution_count": 2,
   "metadata": {},
   "outputs": [],
   "source": [
    "import numpy as np\n",
    "import matplotlib.pyplot as plt\n",
    "import csv\n",
    "import sys\n",
    "import seaborn as sns\n",
    "from scipy.special import comb\n",
    "from matplotlib.colors import LogNorm\n",
    "from matplotlib.patches import Patch\n",
    "import matplotlib as mpl\n",
    "import matplotlib.lines as lines\n",
    "\n",
    "plt.rcParams.update({'font.size': 7})\n",
    "plt.rcParams.update({'font.family': 'sans-serif'})\n",
    "plt.rcParams.update({'xtick.labelsize': 7})\n",
    "plt.rcParams.update({'ytick.labelsize': 7})\n",
    "\n",
    "sns.set_style(\"ticks\")\n",
    "plt.rcParams['scatter.edgecolors'] = 'black'\n",
    "plt.rcParams['font.sans-serif'] = \"Arial\"\n",
    "# Then, \"ALWAYS use sans-serif fonts\"\n",
    "plt.rcParams['font.family'] = \"sans-serif\"\n",
    "plt.rcParams['axes.linewidth'] = 0.5\n",
    "\n"
   ]
  },
  {
   "cell_type": "code",
   "execution_count": 14,
   "metadata": {},
   "outputs": [
    {
     "name": "stdout",
     "output_type": "stream",
     "text": [
      "[  15  105  455 1365] 1940\n",
      "[1, 16, 121, 576, 1941]\n"
     ]
    }
   ],
   "source": [
    "# set some things\n",
    "num_muts_total = 15\n",
    "\n",
    "num_mutations_H1 = 15\n",
    "order_H1 = 4\n",
    "num_term_list_H1 = np.array([int(comb(num_mutations_H1,i)) for i in range(1,order_H1+1)])\n",
    "total_params_H1 = sum(num_term_list_H1)\n",
    "order_start_indices_H1 = list(np.cumsum(num_term_list_H1)+1)\n",
    "order_start_indices_H1.insert(0,1)\n",
    "print(num_term_list_H1,total_params_H1)\n",
    "print(order_start_indices_H1)\n",
    "\n",
    "\n",
    "mut_names = ['339','371','373','375','417','440','446','477','478','484','493','496','498','501','505']\n",
    "\n",
    "H1_color = '#929591'\n",
    "\n",
    "ep_type = 'biochem'"
   ]
  },
  {
   "cell_type": "code",
   "execution_count": 15,
   "metadata": {},
   "outputs": [
    {
     "name": "stdout",
     "output_type": "stream",
     "text": [
      "[ 0.03200919 -0.02624295 -0.04073193  0.11245214 -0.41070577  0.18860459\n",
      " -0.35449279  0.34941246  0.00872446 -0.10109456 -0.19010525 -0.81334098\n",
      " -0.12832195  0.37262696 -0.89818963]\n"
     ]
    }
   ],
   "source": [
    "# read first and second order effects for H1\n",
    "first_coefs_H1 = np.zeros(num_muts_total)\n",
    "first_coefs_H1_stderr = np.zeros(num_muts_total)\n",
    "first_coefs_H1_ci = np.zeros((num_muts_total,2))\n",
    "second_coefs_H1_matrix = np.zeros((num_muts_total,num_muts_total))\n",
    "second_coefs_H1_matrix_sigmask = np.zeros((num_muts_total,num_muts_total))\n",
    " \n",
    "with open('ACE2_4order_biochem.txt','r') as readfile:\n",
    "    coef_reader = csv.reader(readfile,delimiter='\\t')\n",
    "    num_params = int(next(coef_reader)[-1])\n",
    "    r2_train = float(next(coef_reader)[-1])\n",
    "    header = next(coef_reader)\n",
    "    intercept = next(coef_reader)\n",
    "    for i in range(num_term_list_H1[0]):\n",
    "        row = next(coef_reader)\n",
    "        index = int(row[0])-1\n",
    "        first_coefs_H1[index] = float(row[1])\n",
    "        first_coefs_H1_stderr[index] = float(row[2])\n",
    "        first_coefs_H1_ci[index,:] = [float(row[4]),float(row[5])]\n",
    "    for i in range(num_term_list_H1[1]):\n",
    "        row = next(coef_reader)\n",
    "        i1,i2 = row[0].split(',')\n",
    "        index1 = int(i1)-1\n",
    "        index2 = int(i2)-1\n",
    "        second_coefs_H1_matrix[index1][index2] = float(row[1])\n",
    "        second_coefs_H1_matrix[index2][index1] = float(row[1])\n",
    "        if float(row[4])*float(row[5]) > 0.0:\n",
    "            second_coefs_H1_matrix_sigmask[index1][index2] = float(row[1])\n",
    "            second_coefs_H1_matrix_sigmask[index2][index1] = float(row[1])\n",
    "        \n",
    "    readfile.close()\n",
    "\n",
    "print(first_coefs_H1)"
   ]
  },
  {
   "cell_type": "markdown",
   "metadata": {},
   "source": [
    "## plot first order effects"
   ]
  },
  {
   "cell_type": "code",
   "execution_count": 22,
   "metadata": {},
   "outputs": [
    {
     "data": {
      "image/png": "[encoded data removed]",
      "text/plain": [
       "<Figure size 216x108 with 1 Axes>"
      ]
     },
     "metadata": {},
     "output_type": "display_data"
    }
   ],
   "source": [
    "full_mut_names = ['G339D','S371L','S373P','S375F','K417N','N440K','G446S','S477N','T478K','E484A','Q493R','G496S','Q498R','N501Y','Y505H']\n",
    "sns.set_style(\"ticks\")\n",
    "fig, ax = plt.subplots(figsize=(3,1.5))\n",
    "plt.tick_params(size=2,labelsize=7,length=2.5,pad=0)\n",
    "#plt.tick_params(axis='x',rotation=45)\n",
    "x = np.arange(15)\n",
    "width = 0.5\n",
    "ymax = 1\n",
    "\n",
    "for xval in x:\n",
    "    plt.bar(xval,first_coefs_H1[xval],width,color=H1_color,linewidth=0.25)\n",
    "\n",
    "    plt.plot([xval,xval],\n",
    "             [first_coefs_H1[xval]-first_coefs_H1_stderr[xval],first_coefs_H1[xval]+first_coefs_H1_stderr[xval]],'k-',linewidth=0.5)\n",
    "\n",
    "\n",
    "plt.xticks(x,full_mut_names,fontsize=7,rotation=45,ha='right',rotation_mode=\"anchor\")\n",
    "plt.ylim([-1,1])\n",
    "plt.xlabel('Mutations',fontsize=8)\n",
    "plt.ylabel('First order effect \\nACE2 -logKd',labelpad=0.5,fontsize=8)\n",
    "legend_elements = [Patch(facecolor=H1_color, label='ACE2 affinity')]\n",
    "#plt.legend(handles=legend_elements,fontsize=7,bbox_to_anchor=(0.5, 1.1), loc='center',ncol=1,frameon=False)\n",
    "plt.axhline(y=0,linestyle='dashed',c='black',linewidth=0.5)\n",
    "\n",
    "plt.tight_layout()\n",
    "plt.savefig('images/RBD_linear_effects.pdf')\n"
   ]
  },
  {
   "cell_type": "markdown",
   "metadata": {},
   "source": [
    "## plot second order effects"
   ]
  },
  {
   "cell_type": "code",
   "execution_count": 29,
   "metadata": {},
   "outputs": [
    {
     "name": "stdout",
     "output_type": "stream",
     "text": [
      "-0.30724930493579383 0.7935995220626427\n"
     ]
    },
    {
     "data": {
      "image/png": "[encoded data removed]",
      "text/plain": [
       "<Figure size 216x180 with 2 Axes>"
      ]
     },
     "metadata": {},
     "output_type": "display_data"
    }
   ],
   "source": [
    "# heatmap of second order effects\n",
    "full_mut_names = ['G339D','S371L','S373P','S375F','K417N','N440K','G446S','S477N','T478K','E484A','Q493R','G496S','Q498R','N501Y','Y505H']\n",
    "\n",
    "# combine coefs into one matrix\n",
    "coefs_to_plot = np.full((num_mutations_H1,num_mutations_H1),np.nan)\n",
    "for i in range(num_mutations_H1):\n",
    "    for j in range(i,num_mutations_H1):\n",
    "        # upper diagonal H1\n",
    "        coefs_to_plot[i,j] = second_coefs_H1_matrix_sigmask[i,j]\n",
    "        # lower diagonal H3\n",
    "        coefs_to_plot[j,i] = second_coefs_H1_matrix_sigmask[i,j]\n",
    "print(np.nanmin(coefs_to_plot),np.nanmax(coefs_to_plot))\n",
    "\n",
    "sns.set_style(\"white\",{\"axes.facecolor\": \"firebrick\"})\n",
    "plt.figure(figsize=(3,2.5))\n",
    "\n",
    "ax = sns.heatmap(coefs_to_plot,cmap='bwr',xticklabels=mut_names,yticklabels=mut_names,vmin=-0.9,vmax=0.9,\n",
    "                linewidths=0,linecolor='w')\n",
    "for _, spine in ax.spines.items():\n",
    "    spine.set_visible(True)\n",
    "    \n",
    "line = lines.Line2D([0,num_mutations_H1], [0,num_mutations_H1],\n",
    "                    lw=0.5, color='black', axes=ax)\n",
    "ax.add_line(line)\n",
    "ax.tick_params(pad=0)\n",
    "plt.xticks(rotation=90) \n",
    "plt.yticks(rotation=0) \n",
    "plt.tight_layout() #rect=[0, 0.03, 1, 0.95])\n",
    "plt.savefig('images/RBD_2ndorder_effects.pdf')\n",
    "plt.show()"
   ]
  },
  {
   "cell_type": "code",
   "execution_count": null,
   "metadata": {},
   "outputs": [],
   "source": []
  },
  {
   "cell_type": "code",
   "execution_count": null,
   "metadata": {},
   "outputs": [],
   "source": []
  }
 ],
 "metadata": {
  "kernelspec": {
   "display_name": "Python 3",
   "language": "python",
   "name": "python3"
  },
  "language_info": {
   "codemirror_mode": {
    "name": "ipython",
    "version": 3
   },
   "file_extension": ".py",
   "mimetype": "text/x-python",
   "name": "python",
   "nbconvert_exporter": "python",
   "pygments_lexer": "ipython3",
   "version": "3.7.4"
  }
 },
 "nbformat": 4,
 "nbformat_minor": 4
}
