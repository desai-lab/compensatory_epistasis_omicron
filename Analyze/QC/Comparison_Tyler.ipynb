{
 "cells": [
  {
   "cell_type": "code",
   "execution_count": 1,
   "metadata": {},
   "outputs": [],
   "source": [
    "import pandas as pd\n",
    "import numpy as np\n",
    "dfcount = pd.read_csv(\"../../Additional_data/bloom_data/variant_counts.csv\", \n",
    "                     usecols=['target', 'sample', 'barcode', 'count', 'aa_substitutions'],\n",
    "                     low_memory=False)"
   ]
  },
  {
   "cell_type": "code",
   "execution_count": 2,
   "metadata": {},
   "outputs": [],
   "source": [
    "dfcount = dfcount[(dfcount[\"sample\"].str[:7] == 'TiteSeq') & (dfcount.target == \"SARS-CoV-2\")].copy()\n",
    "omicron_mutations = ['G339D','S371L','S373P','S375F','K417N','N440K','G446S','S477N','T478K','E484A','Q493R','G496S','Q498R','N501Y','Y505H']\n",
    "omicron_mutations = [o[0] + str(int(o[1:-1]) - 330) + o[-1] for o in omicron_mutations]\n",
    "omicron_mutations = set(omicron_mutations)\n",
    "dfcount[\"is_omicron\"] = dfcount.aa_substitutions.apply(lambda x: False if pd.isna(x) else set(x.split()).issubset(omicron_mutations)) \n",
    "dfcount = dfcount[dfcount.is_omicron]\n",
    "dfcount[\"bin_number\"] = dfcount[\"sample\"].str[-1].apply(int)\n",
    "dfcount[\"concentration\"] = dfcount[\"sample\"].str.extract(r'TiteSeq_(\\d\\d)_bin\\d')\n",
    "dfcount[\"concentration\"] = dfcount.concentration.apply(int)\n",
    "concentrations = np.array([-20, -13, -12.5, -12, -11.5, -11, -10.5, -10, -9.5, -9, -8.5, -8, -7.5, -7, -6.5, -6][::-1])\n"
   ]
  },
  {
   "cell_type": "code",
   "execution_count": 3,
   "metadata": {},
   "outputs": [],
   "source": [
    "barcodes_lst = dfcount.barcode.unique()\n",
    "barcodes = dict(zip(barcodes_lst, range(len(barcodes_lst))))\n",
    "barcodes_inv = dict(zip(range(len(barcodes_lst)), barcodes_lst))\n",
    "cnts = np.zeros((len(barcodes), 4, 16))\n",
    "for bc, cnt, bn, co in zip(dfcount.barcode, dfcount[\"count\"], dfcount.bin_number, dfcount.concentration):\n",
    "    cnts[barcodes[bc], bn-1, co-1] = cnt"
   ]
  },
  {
   "cell_type": "code",
   "execution_count": 4,
   "metadata": {},
   "outputs": [],
   "source": [
    "import scipy.optimize\n",
    "\n",
    "def extractKd(concentrations, bins_mean, bins_std):\n",
    "    \"\"\"\n",
    "        Arguments: concentrations and exponential mean bin numbers (bin number: 1, 2, 3, 4)\n",
    "        Return: -log10(Kd), and the r^2\n",
    "    \"\"\"\n",
    "    popt, pcov = scipy.optimize.curve_fit(sigmoid, concentrations,\n",
    "                                          bins_mean,\n",
    "                                          p0=[-9., 2., 2.],\n",
    "                                          sigma=bins_std, absolute_sigma=True,\n",
    "                                          bounds=[(-14, 0, 0), (-5, 50000, 50000)],\n",
    "                                          maxfev=400000)\n",
    "    return(-1*popt[0], popt[1], popt[2], 1 - np.sum((sigmoid(concentrations, *popt) - bins_mean)**2)/np.sum((bins_mean - bins_mean.mean())**2), np.sqrt(np.diag(pcov))[0])\n",
    "\n",
    "def sigmoid(c, Kd, A, B):\n",
    "    return np.log10(A * (10**c/((10**c)+(10**Kd))) + B)\n"
   ]
  },
  {
   "cell_type": "code",
   "execution_count": 5,
   "metadata": {},
   "outputs": [
    {
     "name": "stderr",
     "output_type": "stream",
     "text": [
      "/tmp/ipykernel_28917/1907513338.py:4: RuntimeWarning: invalid value encountered in true_divide\n",
      "  bin_means = (cnts[s, :, :] * bins[:, None]).sum(axis=0)/(cnts[s, :, :].sum(axis=0))\n"
     ]
    }
   ],
   "source": [
    "bins = np.array([1, 2, 3, 4])\n",
    "Kds = {}\n",
    "for s in range(cnts.shape[0]):\n",
    "    bin_means = (cnts[s, :, :] * bins[:, None]).sum(axis=0)/(cnts[s, :, :].sum(axis=0))\n",
    "    bin_means[~np.isfinite(bin_means)] = np.nan\n",
    "    notnanindex = [ii for ii in range(16)\n",
    "                if not np.isnan(bin_means[ii])]\n",
    "  \n",
    "\n",
    "    if len(notnanindex) < 4:\n",
    "        Kds[s] = np.nan\n",
    "    else:\n",
    "        Kds[s] = extractKd(concentrations[notnanindex], bin_means[notnanindex], None)[0]\n",
    "        \n",
    "dfcount[\"Kd\"] = dfcount.barcode.apply(lambda x: Kds[barcodes[x]])"
   ]
  },
  {
   "cell_type": "code",
   "execution_count": 6,
   "metadata": {},
   "outputs": [
    {
     "data": {
      "text/plain": [
       "[<matplotlib.lines.Line2D at 0x7f45f78e6b50>]"
      ]
     },
     "execution_count": 6,
     "metadata": {},
     "output_type": "execute_result"
    },
    {
     "data": {
      "image/png": "[encoded data removed]",
      "text/plain": [
       "<Figure size 432x288 with 1 Axes>"
      ]
     },
     "metadata": {
      "needs_background": "light"
     },
     "output_type": "display_data"
    }
   ],
   "source": [
    "import matplotlib.pyplot as plt\n",
    "\n",
    "s=40\n",
    "bin_means = (cnts[s, :, :] * bins[:, None]).sum(axis=0)/(cnts[s, :, :].sum(axis=0))\n",
    "bin_means[~np.isfinite(bin_means)] = np.nan\n",
    "notnanindex = [ii for ii in range(16)\n",
    "                if not np.isnan(bin_means[ii])]\n",
    "plt.plot(concentrations, bin_means)\n",
    "Kd, A, B, _, _ = extractKd(concentrations[notnanindex], bin_means[notnanindex], None)\n",
    "xs = np.linspace(-13, -6, 100)\n",
    "plt.plot(xs, [sigmoid(x, -Kd, A, B) for x in xs])"
   ]
  },
  {
   "cell_type": "code",
   "execution_count": 7,
   "metadata": {},
   "outputs": [],
   "source": [
    "omicron_mutations = ['G339D','S371L','S373P','S375F','K417N','N440K','G446S','S477N','T478K','E484A','Q493R','G496S','Q498R','N501Y','Y505H']\n",
    "omicron_mutations = [o[0] + str(int(o[1:-1]) - 330) + o[-1] for o in omicron_mutations]\n",
    "dfcount[\"geno\"] = dfcount.aa_substitutions.apply(lambda x: \n",
    "                                                   \"\".join([\"1\" if i in [omicron_mutations.index(a) for a in x.split()]\n",
    "                                                    else \"0\" for i in range(15)])\n",
    "                                                  )\n",
    "result_kds = dfcount.groupby(\"geno\").agg({'Kd':['mean', 'std']})"
   ]
  },
  {
   "cell_type": "code",
   "execution_count": 8,
   "metadata": {},
   "outputs": [],
   "source": [
    "dfus = pd.read_csv(\"../../Titeseq/results/Kds/cleaned_Kds_RBD_ACE2.tsv\", sep=\"\\t\")\n",
    "dfus[\"geno\"] = dfus[\"geno\"].apply(lambda x: f'{int(str(x),2):015b}')"
   ]
  },
  {
   "cell_type": "code",
   "execution_count": 9,
   "metadata": {},
   "outputs": [],
   "source": [
    "\n",
    "dfus = dfus[dfus.geno.isin(result_kds.index)].copy()\n",
    "dfus[\"log10Kd_tyler\"] = dfus.geno.map(result_kds.Kd[\"mean\"])\n",
    "dfus[\"log10Kd_tyler_err\"] = dfus.geno.map(result_kds.Kd[\"std\"])"
   ]
  },
  {
   "cell_type": "code",
   "execution_count": 11,
   "metadata": {},
   "outputs": [
    {
     "name": "stderr",
     "output_type": "stream",
     "text": [
      "/home/thomas/.local/lib/python3.8/site-packages/numpy/core/_methods.py:44: RuntimeWarning: invalid value encountered in reduce\n",
      "  return umr_minimum(a, axis, None, out, keepdims, initial, where)\n",
      "/home/thomas/.local/lib/python3.8/site-packages/numpy/core/_methods.py:40: RuntimeWarning: invalid value encountered in reduce\n",
      "  return umr_maximum(a, axis, None, out, keepdims, initial, where)\n"
     ]
    },
    {
     "data": {
      "image/png": "[encoded data removed]",
      "text/plain": [
       "<Figure size 288x216 with 1 Axes>"
      ]
     },
     "metadata": {
      "needs_background": "light"
     },
     "output_type": "display_data"
    }
   ],
   "source": [
    "import seaborn as sns\n",
    "fig, ax = plt.subplots(figsize=(4, 3))\n",
    "sns.scatterplot(x=\"log10Kd\", y=\"log10Kd_tyler\", data=dfus)\n",
    "plt.errorbar(x=\"log10Kd\", xerr='err_log10Kd', y=\"log10Kd_tyler\",  yerr=\"log10Kd_tyler_err\",data=dfus, ls='')\n",
    "plt.plot([8, 10.5], [8, 10.5], color=\"k\", ls=\"--\")\n",
    "plt.xlabel(r\"$\\log_{10}(K_D)$, TiteSeq\")\n",
    "plt.ylabel(r\"$\\log_{10}(K_D)$, from Starr et al\")\n",
    "plt.savefig(\"../Figures/SI_QC_E.pdf\")"
   ]
  },
  {
   "cell_type": "code",
   "execution_count": null,
   "metadata": {},
   "outputs": [],
   "source": [
    "concentrations"
   ]
  },
  {
   "cell_type": "code",
   "execution_count": null,
   "metadata": {},
   "outputs": [],
   "source": []
  }
 ],
 "metadata": {
  "kernelspec": {
   "display_name": "Python [conda env:omicron]",
   "language": "python",
   "name": "conda-env-omicron-py"
  },
  "language_info": {
   "codemirror_mode": {
    "name": "ipython",
    "version": 3
   },
   "file_extension": ".py",
   "mimetype": "text/x-python",
   "name": "python",
   "nbconvert_exporter": "python",
   "pygments_lexer": "ipython3",
   "version": "3.8.13"
  }
 },
 "nbformat": 4,
 "nbformat_minor": 4
}
